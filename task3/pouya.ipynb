{
 "cells": [
  {
   "cell_type": "code",
   "execution_count": 2,
   "metadata": {},
   "outputs": [
    {
     "name": "stdout",
     "output_type": "stream",
     "text": [
      "(5117, 17813)\n",
      "(3411, 17813)\n",
      "(5117,)\n"
     ]
    }
   ],
   "source": [
    "import numpy as np\n",
    "import pandas as pd\n",
    "\n",
    "train_path = \"X_train.csv\"\n",
    "label_path = \"y_train.csv\"\n",
    "test_path = \"X_test.csv\"\n",
    "samples_path = \"samples.csv\"\n",
    "\n",
    "df = pd.read_csv(train_path)\n",
    "test_df = pd.read_csv(test_path)\n",
    "labeldf = pd.read_csv(label_path)\n",
    "\n",
    "\n",
    "labels = labeldf.values\n",
    "data = df.values\n",
    "test_data = test_df.values\n",
    "\n",
    "data = data[:,1:]\n",
    "test_data = test_data[:,1:]\n",
    "labels = labels[:,1]\n",
    "\n",
    "\n",
    "print(data.shape)\n",
    "print(test_data.shape)\n",
    "print(labels.shape)\n",
    "\n"
   ]
  },
  {
   "cell_type": "code",
   "execution_count": 3,
   "metadata": {},
   "outputs": [
    {
     "name": "stdout",
     "output_type": "stream",
     "text": [
      "Class 0 Counts: 3030\n",
      "Class 1 Counts: 443\n",
      "Class 2 Counts: 1474\n",
      "Class 3 Counts: 170\n"
     ]
    }
   ],
   "source": [
    "def count_instances(labels):\n",
    "    unique, counts = np.unique(labels,return_counts=True)\n",
    "    return dict(zip(unique,counts))\n",
    "\n",
    "class_counts = count_instances(labels)\n",
    "\n",
    "print(\"Class 0 Counts: {}\".format(class_counts[0]))\n",
    "print(\"Class 1 Counts: {}\".format(class_counts[1]))\n",
    "print(\"Class 2 Counts: {}\".format(class_counts[2]))\n",
    "print(\"Class 3 Counts: {}\".format(class_counts[3]))\n",
    "\n",
    "\n",
    "(num_train, max_timesteps) = data.shape\n",
    "(num_test, _) = test_data.shape"
   ]
  },
  {
   "cell_type": "code",
   "execution_count": 4,
   "metadata": {},
   "outputs": [],
   "source": [
    "# dk why I did this, might end up useful\n",
    "def min_len(data):\n",
    "    # faster to search column wise\n",
    "    wherenan = np.isnan(data)\n",
    "    for j in range(data.shape[1]):\n",
    "        if np.any(wherenan[:,j]):\n",
    "            return j\n",
    "    \"\"\"\n",
    "    min_len = data.shape[1]\n",
    "    for i in range(data.shape[0]):\n",
    "        cond = np.isnan(data[i,:])\n",
    "        if np.any(cond):\n",
    "            nan_index = np.where(cond)[0][0]\n",
    "            if nan_index < min_len:\n",
    "                min_len = nan_index\n",
    "            \n",
    "    return min_len\n",
    "    \"\"\"\n",
    "    \n",
    "def fill_periodic(data):\n",
    "    nanplaces = np.isnan(data)\n",
    "    num_col = data.shape[1]\n",
    "    for i in range(data.shape[0]):\n",
    "        stop_index = np.argmax(nanplaces[i,:]==True)-1\n",
    "        data[i,:] = np.resize(data[i,:stop_index],num_col)\n",
    "    return data\n",
    "\n",
    "def fill_zero(data):\n",
    "    return np.nan_to_num(data)\n",
    "\n",
    "def fft_zero_pad(data):\n",
    "    zero_padded = np.nan_to_num(data)\n",
    "    return np.fft.fft(zero_padded, axis=0)\n",
    "\n",
    "# implementing below link\n",
    "# https://dsp.stackexchange.com/questions/25435/dft-for-audio-classification-signals-of-different-lengths\n",
    "def fft_mod_min(data):\n",
    "    l = min_len(data)\n",
    "    # a divisor of the column number\n",
    "    split_size = data.shape[1]/379\n",
    "    zero_padded = np.nan_to_num(data)\n",
    "    splits = np.split(zero_padded,split_size, axis = 1)\n",
    "    splits = np.array(splits)\n",
    "    # caution: not sure if the order of rows gets messed up here\n",
    "    # so that the labels correspond to the correct order\n",
    "    splits = splits.transpose(1,0,2)\n",
    "    sums = np.sum(splits, axis = 1)\n",
    "    \n",
    "    return np.fft.fft(sums,axis=0)\n",
    "\n",
    "#mod_min_fft_train = fft_mod_min(data)\n",
    "#zero_pad_fft_train = fft_zero_pad(data)\n",
    "\n",
    "#mod_min_fft_test = fft_mod_min(test_data)\n",
    "#zero_pad_fft_test = fft_zero_pad(test_data)\n",
    "\n",
    "#print(\"Mod_min FFt shape {}\".format(mod_min_fft_train.shape))\n",
    "#print(\"Zero Padded FFt shape {}\".format(zero_pad_fft_train.shape))"
   ]
  },
  {
   "cell_type": "code",
   "execution_count": 5,
   "metadata": {},
   "outputs": [],
   "source": [
    "from biosppy.signals.ecg import ecg\n",
    "\n",
    "\n",
    "def extract_heart(data):\n",
    "    All_ts = []\n",
    "    All_filtered = []\n",
    "    All_rpeaks = []\n",
    "    All_templates_ts = []\n",
    "    All_templates = []\n",
    "    All_heart_rate_ts = []\n",
    "    All_heart_rate = []\n",
    "    thrown_away = []\n",
    "    nanplaces = np.isnan(data)\n",
    "    for i in range(data.shape[0]):\n",
    "        stop_index = np.argmax(nanplaces[i,:]==True) -1\n",
    "        try:\n",
    "            ts, filtered, rpeaks, templates_ts,templates, heart_rate_ts, heart_rate = ecg(data[i,:stop_index], sampling_rate=300,show= False)\n",
    "        except:\n",
    "            print(\"Index {} was bad\".format(i))\n",
    "            thrown_away.append(i)\n",
    "        \"\"\"\n",
    "        print(ts.shape)\n",
    "        print(filtered.shape)\n",
    "        print(rpeaks.shape)\n",
    "        print(templates_ts.shape)\n",
    "        print(templates.shape)\n",
    "        print(heart_rate_ts.shape)\n",
    "        print(heart_rate.shape)\n",
    "        \"\"\"\n",
    "        All_ts.append(ts)\n",
    "        All_filtered.append(filtered)\n",
    "        All_rpeaks.append(rpeaks)\n",
    "        All_templates_ts.append(templates_ts)\n",
    "        All_templates.append(templates)\n",
    "        All_heart_rate_ts.append(heart_rate_ts)\n",
    "        All_heart_rate.append(heart_rate)\n",
    "        \n",
    "    return All_ts, All_filtered, All_rpeaks, All_templates_ts, All_templates, All_heart_rate_ts, All_heart_rate, thrown_away\n",
    "        \n",
    "\n",
    "ts, filtered, rpeaks, templates_ts,templates, heart_rate_ts, heart_rate, thrown_away= extract_heart(data)\n"
   ]
  },
  {
   "cell_type": "code",
   "execution_count": 6,
   "metadata": {},
   "outputs": [
    {
     "data": {
      "text/plain": [
       "'\\nts = make_numpy(ts)\\nfiltered = make_numpy(filtered)\\nrpeaks = make_numpy(rpeaks)\\ntemplates_ts = make_numpy(templates_ts)\\ntemplates = make_numpy(templates)\\nheart_rate_ts = make_numpy(heart_rate_ts)\\nheart_rate = make_numpy(heart_rate)\\n'"
      ]
     },
     "execution_count": 6,
     "metadata": {},
     "output_type": "execute_result"
    }
   ],
   "source": [
    "def make_numpy(heart_thing):\n",
    "    \n",
    "    heart_np = np.zeros((len(heart_thing),max_timesteps))\n",
    "    for i in range(heart_np.shape[0]):\n",
    "        nans = np.empty((1,max_timesteps-len(heart_thing[i])))\n",
    "        nans[:] = np.nan\n",
    "        vals = np.array(heart_thing[i]).reshape(1,len(heart_thing[i]))\n",
    "        heart_np[i,:] = vals#np.concatenate((vals,nans),axis=1)\n",
    "    return heart_np\n",
    "\"\"\"\n",
    "ts = make_numpy(ts)\n",
    "filtered = make_numpy(filtered)\n",
    "rpeaks = make_numpy(rpeaks)\n",
    "templates_ts = make_numpy(templates_ts)\n",
    "templates = make_numpy(templates)\n",
    "heart_rate_ts = make_numpy(heart_rate_ts)\n",
    "heart_rate = make_numpy(heart_rate)\n",
    "\"\"\"\n",
    "\n"
   ]
  },
  {
   "cell_type": "code",
   "execution_count": null,
   "metadata": {},
   "outputs": [],
   "source": [
    "#ts, filtered, rpeaks, templates_ts,templates, heart_rate_ts, heart_rate\n",
    "\n",
    "from biosppy.plotting import plot_ecg\n",
    "\n",
    "\n",
    "nanplaces = np.isnan(data)\n",
    "y_0 = np.argwhere(labels==0)\n",
    "y_1 = np.argwhere(labels==1)\n",
    "y_2 = np.argwhere(labels==2)\n",
    "y_3 = np.argwhere(labels==3)\n",
    "\n",
    "\n",
    "ind3 = y_3[0]\n",
    "ind2 = y_2[0]\n",
    "ind1 = y_1[0]\n",
    "ind = y_0[0]\n",
    "print(ind3)\n",
    "print(ind2)\n",
    "print(ind1)\n",
    "print(ind)\n",
    "stop_index = np.argmax(nanplaces[30,:]==True) -1\n",
    "\n",
    "\n",
    "ts3, filtered3, rpeaks3, templates_ts3,templates3, heart_rate_ts3, heart_rate3 = ecg(data[30,:stop_index], sampling_rate=300,show= True)\n",
    "\n",
    "\n"
   ]
  },
  {
   "cell_type": "code",
   "execution_count": null,
   "metadata": {},
   "outputs": [],
   "source": [
    "stop_index = np.argmax(nanplaces[4,:]==True) -1\n",
    "\n",
    "\n",
    "ts2, filtered2, rpeaks2, templates_ts2,templates2, heart_rate_ts2, heart_rate2 = ecg(data[4,:stop_index], sampling_rate=300,show= True)\n",
    "\n"
   ]
  },
  {
   "cell_type": "code",
   "execution_count": null,
   "metadata": {},
   "outputs": [],
   "source": [
    "stop_index = np.argmax(nanplaces[3:]==True) -1\n",
    "\n",
    "\n",
    "ts1, filtered1, rpeaks1, templates_ts1,templates1, heart_rate_ts1, heart_rate1 = ecg(data[3,:stop_index], sampling_rate=300,show= True)\n",
    "\n",
    "print(ts1.shape)\n",
    "print(filtered1.shape)\n",
    "print(rpeaks1.shape)\n",
    "print(templates_ts1.shape)\n",
    "print(templates1.shape)\n",
    "print(heart_rate_ts1.shape)\n",
    "print(heart_rate1.shape)\n",
    "\n"
   ]
  },
  {
   "cell_type": "code",
   "execution_count": null,
   "metadata": {},
   "outputs": [],
   "source": [
    "stop_index = np.argmax(nanplaces[0,:]==True) -1\n",
    "\n",
    "\n",
    "ts0, filtered0, rpeaks0, templates_ts0,templates0, heart_rate_ts0, heart_rate0 = ecg(data[0,:stop_index], sampling_rate=300,show= True)\n",
    "\n",
    "print(ts0.shape)\n",
    "print(filtered0.shape)\n",
    "print(rpeaks0)\n",
    "print(templates_ts0.shape)\n",
    "print(templates0.shape)\n",
    "print(heart_rate_ts0.shape)\n",
    "print(heart_rate0.shape)\n"
   ]
  },
  {
   "cell_type": "code",
   "execution_count": null,
   "metadata": {},
   "outputs": [],
   "source": [
    "import math\n",
    "def min_len(data):\n",
    "    # faster to search column wise\n",
    "    wherenan = np.isnan(data)\n",
    "    for j in range(data.shape[1]):\n",
    "        if np.any(wherenan[:,j]):\n",
    "            return j\n",
    "        \n",
    "min_len(data)\n",
    "def pad_periodic(data):\n",
    "    nanplaces = np.isnan(data)\n",
    "    for i in range(data.shape[0]):\n",
    "        stop_index = np.argmax(nanplaces[i,:]==True) -1\n",
    "        if stop_index > 0:\n",
    "            rpts = math.floor(data.shape[0]/stop_index)\n",
    "            print(rpts)\n",
    "            data[i,:] = np.tile(data[i,:],rpts)\n",
    "            #print(fill.shape)\n",
    "        \n",
    "        \n",
    "pad_periodic(data)"
   ]
  },
  {
   "cell_type": "code",
   "execution_count": 20,
   "metadata": {},
   "outputs": [],
   "source": [
    "#ts, filtered, rpeaks, templates_ts,templates, heart_rate_ts, heart_rate\n",
    "#what to fucking do with this shit????\n"
   ]
  },
  {
   "cell_type": "code",
   "execution_count": null,
   "metadata": {},
   "outputs": [],
   "source": [
    "import math\n",
    "\n",
    "\n",
    "x_folds, y_folds = make_folds(5, sxx, labels)\n",
    "for i, y in enumerate(y_folds):\n",
    "    print(y_folds[i].shape)\n",
    "    print(\"Number of instances in fold {}\".format(i))\n",
    "    class_counts = count_instances(y_folds[i])\n",
    "    print(\"Class 0 Counts: {}\".format(class_counts[0]))\n",
    "    print(\"Class 1 Counts: {}\".format(class_counts[1]))\n",
    "    print(\"Class 2 Counts: {}\".format(class_counts[2]))\n",
    "    print(\"Class 3 Counts: {}\".format(class_counts[3]))\n",
    "\n",
    "\n",
    "\n"
   ]
  },
  {
   "cell_type": "code",
   "execution_count": 7,
   "metadata": {},
   "outputs": [],
   "source": [
    "import sys\n",
    "from biosppy.signals import tools as st\n",
    "from biosppy.signals.ecg import correct_rpeaks, extract_heartbeats, hamilton_segmenter, ecg\n",
    "from scipy.ndimage.filters import gaussian_filter\n",
    "from scipy.signal import argrelmax\n",
    "from scipy.stats import stats\n",
    "\n",
    "from scipy.stats import stats\n",
    "from sklearn.metrics import f1_score\n",
    "from biosppy import plotting, utils\n",
    "          \n",
    "    \n",
    "def process_data(data, sampling_rate=300, show=False, verbose=True):\n",
    "    x = []\n",
    "    nanplaces = np.isnan(data)\n",
    "    for i, signal in enumerate(data):\n",
    "        stop_index = np.argmax(nanplaces[i,:]==True)-1\n",
    "        temp = ecg(signal=signal[:stop_index],\n",
    "                      sampling_rate=sampling_rate,\n",
    "                      show=show\n",
    "                      #segmenter=qrs_detector\n",
    "                      )\n",
    "        args = (data[i], temp[\"ts\"], temp[\"filtered\"], temp[\"rpeaks\"],\n",
    "                temp[\"templates_ts\"], temp[\"templates\"], temp[\"heart_rate_ts\"],\n",
    "                temp[\"heart_rate\"])\n",
    "        names = ('original', 'ts', 'filtered', 'rpeaks', 'templates_ts',\n",
    "                 'templates', 'heart_rate_ts', 'heart_rate')\n",
    "        temp = utils.ReturnTuple(args, names)\n",
    "        x.append(temp)\n",
    "        \n",
    "        if verbose:\n",
    "            if i % 300 == 0:\n",
    "                print(\"Analysing sample \", i, \"...Please wait...\")\n",
    "                sys.stdout.flush()\n",
    "                \n",
    "    return x\n",
    "\n",
    "def signal_stats(signal):\n",
    "    try:\n",
    "        # mean, median, max, min, std, skewness, kurtosis\n",
    "        # check inputs\n",
    "        if signal is None:\n",
    "            raise TypeError(\"Please specify an input signal.\")\n",
    "\n",
    "        # ensure numpy\n",
    "        signal = np.array(signal)\n",
    "\n",
    "        # mean\n",
    "        mean = np.mean(signal)\n",
    "\n",
    "        # median\n",
    "        median = np.median(signal)\n",
    "\n",
    "        # maximum amplitude abs\n",
    "        maxAmpAbs = np.abs(signal - mean).max()\n",
    "\n",
    "        # minimum amplitude abs\n",
    "        minAmpAbs = np.abs(signal - mean).min()\n",
    "\n",
    "        # maximum amplitude\n",
    "        maxAmp = (signal - mean).max()\n",
    "\n",
    "        # minimum amplitude\n",
    "        minAmp = (signal - mean).min()\n",
    "\n",
    "        # variance\n",
    "        sigma2 = signal.var(ddof=1)\n",
    "\n",
    "        # standard deviation\n",
    "        sigma = signal.std(ddof=1)\n",
    "\n",
    "        # absolute deviation\n",
    "        ad = np.sum(np.abs(signal - median))\n",
    "\n",
    "        # kurtosis\n",
    "        kurt = stats.kurtosis(signal, bias=False)\n",
    "\n",
    "        # skweness\n",
    "        skew = stats.skew(signal, bias=False)\n",
    "        \n",
    "        # SNR\n",
    "        snr = stats.signaltonoise(signal)\n",
    "            \n",
    "        # Entropy\n",
    "        entropy = stats.entropy(signal)\n",
    "        \n",
    "        # Z-score\n",
    "        \n",
    "        zscore = stats.zscore(signal)\n",
    "        \n",
    "        # 3rd 4th, Moment\n",
    "        \n",
    "        mom3 = stats.moment(signal,3)\n",
    "        mom4 = stats.moment(signal,4)\n",
    "        \n",
    "        # output\n",
    "        args = (mean, median, maxAmpAbs, minAmpAbs, maxAmp, minAmp, sigma2,\n",
    "                sigma, ad, kurt, skew )#, snr, entropy zscore, mom3, mom4)\n",
    "        names = ('mean', 'median', 'maxabs', 'minabs', 'max', 'min', 'var',\n",
    "                 'std_dev', 'abs_dev', 'kurtosis', 'skewness')#,\"snr\", \"entropy\")#\"zscore\",\"mom3\",\"mom4\")\n",
    "\n",
    "        return utils.ReturnTuple(args, names)\n",
    "    except Exception:\n",
    "        args = (0, 0, 0, 0, 0, 0, 0, 0, 0, 0, 0)#,0,0)#,0,0,0)\n",
    "        names = ('mean', 'median', 'maxabs', 'minabs', 'max', 'min', 'var',\n",
    "                 'std_dev', 'abs_dev', 'kurtosis', 'skewness')#,\"snr\", \"entropy\")#\"zscore\",\"mom3\",\"mom4\")\n",
    "\n",
    "        return utils.ReturnTuple(args, names)\n",
    "    \n",
    "def RRIntervals(qrs_indices, sampling_rate=300):\n",
    "    RR = np.diff(qrs_indices) / sampling_rate\n",
    "    return RR\n",
    "\n",
    "def extract_data(biooutput, sampling_rate=300):\n",
    "    original_signal = biooutput[\"original\"]\n",
    "    filtered_signal = biooutput[\"filtered\"]\n",
    "    median_template = np.median(biooutput[\"templates\"], axis=0)\n",
    "    # plt.plot(median_template)\n",
    "    mean_template = np.mean(biooutput[\"templates\"], axis=0)\n",
    "    std_template = np.std(biooutput[\"templates\"], axis=0)\n",
    "\n",
    "    # plt.plot(std_template)\n",
    "    # plt.show()\n",
    "    if len(median_template) == 0:\n",
    "        median_template = np.zeros((0.6 * sampling_rate))\n",
    "        mean_template = np.zeros((0.6 * sampling_rate))\n",
    "        std_template = np.zeros((0.6 * sampling_rate))\n",
    "\n",
    "    if len(biooutput[\"heart_rate\"]) == 0:\n",
    "        heart_rate = [0]\n",
    "    else:\n",
    "        heart_rate = biooutput[\"heart_rate\"]\n",
    "\n",
    "    if len(biooutput[\"rpeaks\"]) == 0:\n",
    "        rpeaks = [0]\n",
    "    else:\n",
    "        rpeaks = biooutput[\"rpeaks\"]\n",
    "\n",
    "    median_template_stats = signal_stats(median_template)\n",
    "    mean_template_stats = signal_stats(mean_template)\n",
    "    heartrate_stats = signal_stats(heart_rate)\n",
    "\n",
    "    peak_values = original_signal[rpeaks]\n",
    "    peak_stats = signal_stats(peak_values)\n",
    "\n",
    "    rrintervals = RRIntervals(rpeaks)\n",
    "    rrinterval_stats = signal_stats(rrintervals)\n",
    "\n",
    "    median_temp_perc = np.percentile(median_template,\n",
    "                                     [5, 15, 25, 35, 65, 75, 85, 95])\n",
    "    mean_temp_perc = np.percentile(mean_template,\n",
    "                                   [5, 15, 25, 35, 65, 75, 85, 95])\n",
    "    heart_rate_perc = np.percentile(heart_rate,\n",
    "                                    [5, 15, 25, 35, 65, 75, 85, 95])\n",
    "    peak_perc = np.percentile(peak_values, [5, 15, 25, 35, 65, 75, 85, 95])\n",
    "\n",
    "    rrinterval2 = np.diff(rrintervals)\n",
    "    rrinterval2_stats = signal_stats(rrinterval2)\n",
    "    \"\"\"\n",
    "    rr50 = np.sum(rrinterval2 > 0.05)\n",
    "    rr20 = np.sum(rrinterval2 > 0.02)\n",
    "    prr50 = rr50 / len(rrinterval2)\n",
    "    prr20 = rr20 / len(rrinterval2)\n",
    "    hrv_data = np.array([rr50, rr20, prr50, prr20])\n",
    "    \"\"\"\n",
    "    numofpeaks = len(biooutput[\"rpeaks\"])\n",
    "\n",
    "    return (filtered_signal, median_template, mean_template, std_template,\n",
    "            median_template_stats, mean_template_stats, heartrate_stats,\n",
    "            peak_stats, rrinterval_stats, median_temp_perc, mean_temp_perc,\n",
    "            heart_rate_perc, peak_perc, rrinterval2_stats,\n",
    "            numofpeaks)\n",
    "\n",
    "\n",
    "def featurevector(processed_signal, sampling_rate=300):\n",
    "    results = extract_data(processed_signal, sampling_rate=sampling_rate)\n",
    "    filtered_signal = results[0]\n",
    "    median_template = results[1]\n",
    "    mean_template = results[2]\n",
    "    std_template = results[3]\n",
    "    median_template_stats = list(results[4].as_dict().values())\n",
    "    mean_template_stats = list(results[5].as_dict().values())\n",
    "    heartrate_stats = list(results[6].as_dict().values())\n",
    "    peak_stats = list(results[7].as_dict().values())\n",
    "    rr_interval_stats = list(results[8].as_dict().values())\n",
    "    median_temp_perc = results[9]\n",
    "    mean_temp_perc = results[10]\n",
    "    heart_rate_perc = results[11]\n",
    "    peak_perc = results[12]\n",
    "    rrinterval2_stats = list(results[13].as_dict().values())\n",
    "    #hrv_data = results[14]\n",
    "    numofpeaks = results[14]\n",
    "\n",
    "    features = np.array([])\n",
    "    features = np.append(features, median_template)\n",
    "    features = np.append(features, mean_template)\n",
    "    features = np.append(features, std_template)\n",
    "    features = np.append(features, median_template_stats)\n",
    "    features = np.append(features, mean_template_stats)\n",
    "    features = np.append(features, heartrate_stats)\n",
    "    features = np.append(features, peak_stats)\n",
    "    features = np.append(features, rr_interval_stats)\n",
    "    features = np.append(features, median_temp_perc)\n",
    "    features = np.append(features, mean_temp_perc)\n",
    "    features = np.append(features, heart_rate_perc)\n",
    "    features = np.append(features, peak_perc)\n",
    "    features = np.append(features, rrinterval2_stats)\n",
    "    #features = np.append(features, hrv_data)\n",
    "    features = np.append(features, numofpeaks)\n",
    "\n",
    "    return filtered_signal, features\n"
   ]
  },
  {
   "cell_type": "code",
   "execution_count": 8,
   "metadata": {},
   "outputs": [],
   "source": [
    "import matplotlib.pyplot as plt\n",
    "def plot_confusion_matrix(y_true, y_pred, classes,\n",
    "                          normalize=False,\n",
    "                          title=None,\n",
    "                          cmap=plt.cm.Blues):\n",
    "    \"\"\"\n",
    "    This function prints and plots the confusion matrix.\n",
    "    Normalization can be applied by setting `normalize=True`.\n",
    "    \"\"\"\n",
    "    if not title:\n",
    "        if normalize:\n",
    "            title = 'Normalized confusion matrix'\n",
    "        else:\n",
    "            title = 'Confusion matrix, without normalization'\n",
    "\n",
    "    # Compute confusion matrix\n",
    "    cm = confusion_matrix(y_true, y_pred)\n",
    "    # Only use the labels that appear in the data\n",
    "    classes = classes[unique_labels(y_true, y_pred)]\n",
    "    if normalize:\n",
    "        cm = cm.astype('float') / cm.sum(axis=1)[:, np.newaxis]\n",
    "        print(\"Normalized confusion matrix\")\n",
    "    else:\n",
    "        print('Confusion matrix, without normalization')\n",
    "\n",
    "    print(cm)\n",
    "\n",
    "    fig, ax = plt.subplots()\n",
    "    im = ax.imshow(cm, interpolation='nearest', cmap=cmap)\n",
    "    ax.figure.colorbar(im, ax=ax)\n",
    "    # We want to show all ticks...\n",
    "    ax.set(xticks=np.arange(cm.shape[1]),\n",
    "           yticks=np.arange(cm.shape[0]),\n",
    "           # ... and label them with the respective list entries\n",
    "           xticklabels=classes, yticklabels=classes,\n",
    "           title=title,\n",
    "           ylabel='True label',\n",
    "           xlabel='Predicted label')\n",
    "\n",
    "    # Rotate the tick labels and set their alignment.\n",
    "    plt.setp(ax.get_xticklabels(), rotation=45, ha=\"right\",\n",
    "             rotation_mode=\"anchor\")\n",
    "\n",
    "    # Loop over data dimensions and create text annotations.\n",
    "    fmt = '.2f' if normalize else 'd'\n",
    "    thresh = cm.max() / 2.\n",
    "    for i in range(cm.shape[0]):\n",
    "        for j in range(cm.shape[1]):\n",
    "            ax.text(j, i, format(cm[i, j], fmt),\n",
    "                    ha=\"center\", va=\"center\",\n",
    "                    color=\"white\" if cm[i, j] > thresh else \"black\")\n",
    "    fig.tight_layout()\n",
    "    return ax\n",
    "\n",
    "\n",
    "np.set_printoptions(precision=2)"
   ]
  },
  {
   "cell_type": "code",
   "execution_count": 9,
   "metadata": {},
   "outputs": [
    {
     "name": "stdout",
     "output_type": "stream",
     "text": [
      "Analysing sample  0 ...Please wait...\n",
      "Analysing sample  300 ...Please wait...\n",
      "Analysing sample  600 ...Please wait...\n",
      "Analysing sample  900 ...Please wait...\n",
      "Analysing sample  1200 ...Please wait...\n",
      "Analysing sample  1500 ...Please wait...\n",
      "Analysing sample  1800 ...Please wait...\n",
      "Analysing sample  2100 ...Please wait...\n",
      "Analysing sample  2400 ...Please wait...\n",
      "Analysing sample  2700 ...Please wait...\n",
      "Analysing sample  3000 ...Please wait...\n",
      "Analysing sample  3300 ...Please wait...\n",
      "Analysing sample  3600 ...Please wait...\n",
      "Analysing sample  3900 ...Please wait...\n",
      "Analysing sample  4200 ...Please wait...\n",
      "Analysing sample  4500 ...Please wait...\n",
      "Analysing sample  4800 ...Please wait...\n",
      "Analysing sample  5100 ...Please wait...\n",
      "Extracting features from sample 0\n",
      "Extracting features from sample 300\n",
      "Extracting features from sample 600\n"
     ]
    },
    {
     "name": "stderr",
     "output_type": "stream",
     "text": [
      "/home/wen/.local/lib/python3.6/site-packages/ipykernel_launcher.py:67: RuntimeWarning: Degrees of freedom <= 0 for slice\n",
      "/home/wen/.local/lib/python3.6/site-packages/numpy/core/_methods.py:209: RuntimeWarning: invalid value encountered in double_scalars\n",
      "  ret = ret.dtype.type(ret / rcount)\n",
      "/home/wen/.local/lib/python3.6/site-packages/numpy/core/_methods.py:217: RuntimeWarning: Degrees of freedom <= 0 for slice\n",
      "  keepdims=keepdims)\n"
     ]
    },
    {
     "name": "stdout",
     "output_type": "stream",
     "text": [
      "Extracting features from sample 900\n",
      "Extracting features from sample 1200\n",
      "Extracting features from sample 1500\n",
      "Extracting features from sample 1800\n",
      "Extracting features from sample 2100\n",
      "Extracting features from sample 2400\n",
      "Extracting features from sample 2700\n",
      "Extracting features from sample 3000\n",
      "Extracting features from sample 3300\n",
      "Extracting features from sample 3600\n",
      "Extracting features from sample 3900\n",
      "Extracting features from sample 4200\n",
      "Extracting features from sample 4500\n",
      "Extracting features from sample 4800\n",
      "Extracting features from sample 5100\n"
     ]
    }
   ],
   "source": [
    "X1 = data\n",
    "X2 = np.array([])\n",
    "processed = process_data(X1, sampling_rate=300, show=False, verbose=True)\n",
    "\n",
    "_, temp = featurevector(processed[0], sampling_rate=300)\n",
    "new_length = len(temp)\n",
    "all_features = np.empty((X1.shape[0], new_length))\n",
    "for i in range(X1.shape[0]):\n",
    "        filtered_signal, features = featurevector(processed[i], sampling_rate=300)\n",
    "        assert all_features.shape[1] == len(features)\n",
    "        all_features[i, :] = features\n",
    "        #print(filtered_signal.shape)\n",
    "        \n",
    "        #X1[i, :] = filtered_signal\n",
    "\n",
    "        if i % 300 == 0:\n",
    "            print(\"Extracting features from sample\", i)\n",
    "            sys.stdout.flush()\n",
    "\n",
    "X2 = X2.reshape(X1.shape[0], -1)\n",
    "X2 = np.hstack((X2, all_features))"
   ]
  },
  {
   "cell_type": "code",
   "execution_count": 13,
   "metadata": {},
   "outputs": [
    {
     "name": "stdout",
     "output_type": "stream",
     "text": [
      "Analysing sample  0 ...Please wait...\n",
      "Analysing sample  300 ...Please wait...\n",
      "Analysing sample  600 ...Please wait...\n",
      "Analysing sample  900 ...Please wait...\n",
      "Analysing sample  1200 ...Please wait...\n",
      "Analysing sample  1500 ...Please wait...\n",
      "Analysing sample  1800 ...Please wait...\n",
      "Analysing sample  2100 ...Please wait...\n",
      "Analysing sample  2400 ...Please wait...\n",
      "Analysing sample  2700 ...Please wait...\n",
      "Analysing sample  3000 ...Please wait...\n",
      "Analysing sample  3300 ...Please wait...\n",
      "Extracting features from sample 0\n",
      "Extracting features from sample 300\n",
      "Extracting features from sample 600\n"
     ]
    },
    {
     "name": "stderr",
     "output_type": "stream",
     "text": [
      "/home/wen/.local/lib/python3.6/site-packages/ipykernel_launcher.py:67: RuntimeWarning: Degrees of freedom <= 0 for slice\n"
     ]
    },
    {
     "name": "stdout",
     "output_type": "stream",
     "text": [
      "Extracting features from sample 900\n",
      "Extracting features from sample 1200\n",
      "Extracting features from sample 1500\n",
      "Extracting features from sample 1800\n",
      "Extracting features from sample 2100\n",
      "Extracting features from sample 2400\n",
      "Extracting features from sample 2700\n",
      "Extracting features from sample 3000\n",
      "Extracting features from sample 3300\n"
     ]
    }
   ],
   "source": [
    "X1 = test_data\n",
    "X_test = np.array([])\n",
    "processed = process_data(X1, sampling_rate=300, show=False, verbose=True)\n",
    "\n",
    "_, temp = featurevector(processed[0], sampling_rate=300)\n",
    "new_length = len(temp)\n",
    "all_features = np.empty((X1.shape[0], new_length))\n",
    "for i in range(X1.shape[0]):\n",
    "        filtered_signal, features = featurevector(processed[i], sampling_rate=300)\n",
    "        assert all_features.shape[1] == len(features)\n",
    "        all_features[i, :] = features\n",
    "        #print(filtered_signal.shape)\n",
    "        \n",
    "        #X1[i, :] = filtered_signal\n",
    "\n",
    "        if i % 300 == 0:\n",
    "            print(\"Extracting features from sample\", i)\n",
    "            sys.stdout.flush()\n",
    "\n",
    "X_test = X_test.reshape(X1.shape[0], -1)\n",
    "X_test = np.hstack((X_test, all_features))"
   ]
  },
  {
   "cell_type": "code",
   "execution_count": 31,
   "metadata": {},
   "outputs": [],
   "source": [
    "from sklearn.model_selection import GridSearchCV\n",
    "from sklearn.metrics import make_scorer\n",
    "from xgboost import XGBClassifier\n",
    "from sklearn.svm import SVC\n",
    "\n",
    "\n",
    "classifier = XGBClassifier(max_depth=5, learning_rate=0.1, n_estimators=66, verbosity=1,\n",
    "                                        objective='multi:softmax', booster='gbtree', tree_method='auto',\n",
    "                                        n_jobs=-1, gpu_id=0, gamma=0, min_child_weight=1,\n",
    "                                        max_delta_step=0, subsample=1, colsample_bytree=1,\n",
    "                                        colsample_bylevel=1, colsample_bynode=1, reg_alpha=0,\n",
    "                                        reg_lambda=1, scale_pos_weight=6, base_score=0.5,\n",
    "                                        random_state=0, missing=None)\n",
    "\n",
    "# classifier = SVC(C=0.5, kernel='rbf', degree=3,\n",
    "#                           gamma='scale',\n",
    "# #                           gamma=1 / (1000 * x_train.std()),\n",
    "#                  coef0=0.0, shrinking=True, probability=False, tol=0.001, cache_size=500,\n",
    "# #                  class_weight=\n",
    "# #                           # 'balanced',\n",
    "# #                           {0: ratio, 1: 0.9, 2: ratio},\n",
    "#                           verbose=False, max_iter=-1, decision_function_shape='ova',\n",
    "#                   random_state=None)\n",
    "\n",
    "tuned_parameters = [{'boost__n_estimators':[20], 'boost__max_depth':[2], 'reg_lambda':[20]}]\n",
    "# tuned_parameters = [{'C':[0.5,1,5,10,20,100]}]\n",
    "\n",
    "bmc_scorer = make_scorer(f1_score, average = 'micro')\n",
    "\n",
    "grid = GridSearchCV(classifier,  param_grid=tuned_parameters,  scoring=bmc_scorer, n_jobs=-1,cv =5, verbose=3)\n",
    "\n"
   ]
  },
  {
   "cell_type": "code",
   "execution_count": 12,
   "metadata": {},
   "outputs": [],
   "source": [
    "\n",
    "from numpy import asarray\n",
    "from numpy import savetxt\n",
    "X2.shape\n",
    "savetxt('extracted_features.csv', X2, delimiter=',')"
   ]
  },
  {
   "cell_type": "code",
   "execution_count": 39,
   "metadata": {},
   "outputs": [],
   "source": [
    "from sklearn.model_selection import train_test_split\n",
    "\n",
    "x_train, x_val, y_train, y_val = train_test_split(X2, labels, test_size=0.25, random_state=0, stratify=labels)\n"
   ]
  },
  {
   "cell_type": "code",
   "execution_count": 43,
   "metadata": {},
   "outputs": [
    {
     "name": "stdout",
     "output_type": "stream",
     "text": [
      "[(0, 2272), (1, 2272), (2, 2272), (3, 2272)]\n"
     ]
    }
   ],
   "source": [
    "from collections import Counter\n",
    "from imblearn.under_sampling import RandomUnderSampler\n",
    "from imblearn.over_sampling import RandomOverSampler\n",
    "rus = RandomUnderSampler(random_state=0)\n",
    "ros = RandomOverSampler(random_state=42)\n",
    "x_train_sample, y_train_sample = rus.fit_resample(x_train, y_train)\n",
    "# x_train_sample, y_train_sample = ros.fit_resample(x_train,y_train)\n",
    "\n",
    "print(sorted(Counter(y_train_sample).items()))"
   ]
  },
  {
   "cell_type": "code",
   "execution_count": 44,
   "metadata": {},
   "outputs": [
    {
     "name": "stdout",
     "output_type": "stream",
     "text": [
      "Fitting 5 folds for each of 6 candidates, totalling 30 fits\n"
     ]
    },
    {
     "name": "stderr",
     "output_type": "stream",
     "text": [
      "[Parallel(n_jobs=-1)]: Using backend LokyBackend with 8 concurrent workers.\n",
      "[Parallel(n_jobs=-1)]: Done  26 out of  30 | elapsed:  4.4min remaining:   41.1s\n",
      "[Parallel(n_jobs=-1)]: Done  30 out of  30 | elapsed:  4.5min finished\n"
     ]
    },
    {
     "name": "stdout",
     "output_type": "stream",
     "text": [
      "FINAL VALIDATION 0.66796875\n"
     ]
    }
   ],
   "source": [
    "\n",
    "grid.fit(x_train_sample,y_train_sample)\n",
    "y_pred = grid.predict(x_val)\n",
    "F1 = f1_score(y_val, y_pred, average='micro')\n",
    "print(\"FINAL VALIDATION {}\".format(F1))\n"
   ]
  },
  {
   "cell_type": "code",
   "execution_count": 45,
   "metadata": {},
   "outputs": [
    {
     "name": "stdout",
     "output_type": "stream",
     "text": [
      "{'C': 100}\n"
     ]
    }
   ],
   "source": [
    "print(grid.best_params_)"
   ]
  },
  {
   "cell_type": "code",
   "execution_count": 46,
   "metadata": {},
   "outputs": [
    {
     "name": "stdout",
     "output_type": "stream",
     "text": [
      "Confusion matrix, without normalization\n",
      "[[596  20 129  13]\n",
      " [ 12  73  23   3]\n",
      " [140  50 166  13]\n",
      " [ 13   2   7  20]]\n",
      "Normalized confusion matrix\n",
      "[[0.79 0.03 0.17 0.02]\n",
      " [0.11 0.66 0.21 0.03]\n",
      " [0.38 0.14 0.45 0.04]\n",
      " [0.31 0.05 0.17 0.48]]\n",
      "Confusion matrix, without normalization\n",
      "[[2006   40  217    9]\n",
      " [   5  318    9    0]\n",
      " [ 212   78  811    4]\n",
      " [   0    0    0  128]]\n",
      "Normalized confusion matrix\n",
      "[[0.88 0.02 0.1  0.  ]\n",
      " [0.02 0.96 0.03 0.  ]\n",
      " [0.19 0.07 0.73 0.  ]\n",
      " [0.   0.   0.   1.  ]]\n"
     ]
    },
    {
     "data": {
      "image/png": "[encoded data removed]",
      "text/plain": [
       "<Figure size 432x288 with 2 Axes>"
      ]
     },
     "metadata": {
      "needs_background": "light"
     },
     "output_type": "display_data"
    },
    {
     "data": {
      "image/png": "[encoded data removed]",
      "text/plain": [
       "<Figure size 432x288 with 2 Axes>"
      ]
     },
     "metadata": {
      "needs_background": "light"
     },
     "output_type": "display_data"
    },
    {
     "data": {
      "image/png": "[encoded data removed]",
      "text/plain": [
       "<Figure size 432x288 with 2 Axes>"
      ]
     },
     "metadata": {
      "needs_background": "light"
     },
     "output_type": "display_data"
    },
    {
     "data": {
      "image/png": "[encoded data removed]",
      "text/plain": [
       "<Figure size 432x288 with 2 Axes>"
      ]
     },
     "metadata": {
      "needs_background": "light"
     },
     "output_type": "display_data"
    }
   ],
   "source": [
    "from sklearn.metrics import confusion_matrix\n",
    "from sklearn.utils.multiclass import unique_labels\n",
    "# y_val_pred = np.argmax(grid.predict(x_val), axis = 1)\n",
    "# y_train_pred = np.argmax(grid.predict(x_train), axis = 1)\n",
    "y_val_pred = grid.predict(x_val)\n",
    "y_train_pred = grid.predict(x_train)\n",
    "\n",
    "\n",
    "class_names = np.array([0,1,2,3])\n",
    "# Plot non-normalized confusion matrix\n",
    "plot_confusion_matrix(y_val, y_val_pred, classes=class_names,\n",
    "                      title='Confusion matrix, without normalization')\n",
    "\n",
    "# Plot normalized confusion matrix\n",
    "plot_confusion_matrix(y_val, y_val_pred, classes=class_names, normalize=True,\n",
    "                      title='Normalized confusion matrix')\n",
    "\n",
    "plot_confusion_matrix(y_train, y_train_pred, classes=class_names,\n",
    "                      title='Confusion matrix, without normalization')\n",
    "\n",
    "# Plot normalized confusion matrix\n",
    "plot_confusion_matrix(y_train, y_train_pred, classes=class_names, normalize=True,\n",
    "                      title='Normalized confusion matrix')\n",
    "\n",
    "\n",
    "plt.show()"
   ]
  },
  {
   "cell_type": "code",
   "execution_count": 20,
   "metadata": {},
   "outputs": [
    {
     "data": {
      "text/plain": [
       "{'mean_fit_time': array([6.45]),\n",
       " 'std_fit_time': array([0.41]),\n",
       " 'mean_score_time': array([0.]),\n",
       " 'std_score_time': array([0.]),\n",
       " 'param_boost__max_depth': masked_array(data=[2],\n",
       "              mask=[False],\n",
       "        fill_value='?',\n",
       "             dtype=object),\n",
       " 'param_boost__n_estimators': masked_array(data=[20],\n",
       "              mask=[False],\n",
       "        fill_value='?',\n",
       "             dtype=object),\n",
       " 'param_reg_lambda': masked_array(data=[20],\n",
       "              mask=[False],\n",
       "        fill_value='?',\n",
       "             dtype=object),\n",
       " 'params': [{'boost__max_depth': 2,\n",
       "   'boost__n_estimators': 20,\n",
       "   'reg_lambda': 20}],\n",
       " 'split0_test_score': array([0.58]),\n",
       " 'split1_test_score': array([0.64]),\n",
       " 'split2_test_score': array([0.68]),\n",
       " 'split3_test_score': array([0.67]),\n",
       " 'split4_test_score': array([0.66]),\n",
       " 'mean_test_score': array([0.65]),\n",
       " 'std_test_score': array([0.04]),\n",
       " 'rank_test_score': array([1], dtype=int32)}"
      ]
     },
     "execution_count": 20,
     "metadata": {},
     "output_type": "execute_result"
    }
   ],
   "source": [
    "grid.cv_results_"
   ]
  },
  {
   "cell_type": "code",
   "execution_count": 9,
   "metadata": {},
   "outputs": [
    {
     "name": "stdout",
     "output_type": "stream",
     "text": [
      "Fitting 10 folds for each of 1 candidates, totalling 10 fits\n"
     ]
    },
    {
     "name": "stderr",
     "output_type": "stream",
     "text": [
      "[Parallel(n_jobs=-1)]: Using backend LokyBackend with 8 concurrent workers.\n",
      "[Parallel(n_jobs=-1)]: Done   3 out of  10 | elapsed:  3.0min remaining:  7.1min\n",
      "[Parallel(n_jobs=-1)]: Done   7 out of  10 | elapsed:  3.1min remaining:  1.3min\n",
      "[Parallel(n_jobs=-1)]: Done  10 out of  10 | elapsed:  4.5min finished\n"
     ]
    }
   ],
   "source": [
    "grid.fit(X2,labels)\n",
    "y_final = grid.predict(X_test)\n",
    "sample = pd.read_csv(\"sample.csv\", delimiter=',')\n",
    "sample['y'] = y_final\n",
    "sample.to_csv(\"y_pred_xgboost_featureextended.csv\", index = False)"
   ]
  },
  {
   "cell_type": "code",
   "execution_count": 133,
   "metadata": {},
   "outputs": [],
   "source": [
    "# One vs. All for class 3\n",
    "# Gave lower validation score... (sadface)\n",
    "from sklearn.svm import SVC\n",
    "from sklearn.ensemble import RandomForestClassifier\n",
    "from sklearn.multiclass import OneVsRestClassifier\n",
    "from sklearn.ensemble import AdaBoostClassifier\n",
    "\"\"\"\n",
    "X_2_3 = X2[np.argwhere(labels==3)]\n",
    "X_2_rest = X2[np.argwhere(np.logical_or((labels==1) ,(labels==2) , (labels==0)))]\n",
    "labels_rest = labels[np.argwhere(np.logical_or((labels==1) ,(labels==2) , (labels==0)))]\n",
    "\n",
    "y_onevsall = np.zeros((X2.shape[0],1))\n",
    "y_onevsall[np.argwhere(labels==3)] = 0\n",
    "y_onevsall[np.argwhere(np.logical_or((labels==1) ,(labels==2) , (labels==0)))] = 1\n",
    "y_onevsall = y_onevsall.reshape(X2.shape[0],)\n",
    "\"\"\"\n",
    "svc = RandomForestClassifier(n_estimators=20, criterion='gini',\n",
    "                                        max_depth=3, min_samples_split=2, min_samples_leaf=5,\n",
    "                                        min_weight_fraction_leaf=0.15, max_features='auto',\n",
    "                                        max_leaf_nodes=5, min_impurity_decrease=0.0,\n",
    "                                        min_impurity_split=None, bootstrap=True, oob_score=False,\n",
    "                                        n_jobs=-1, random_state=None, verbose=0, warm_start=False,\n",
    "                                        class_weight=\"balanced\")#SVC(C=3.0, class_weight=\"balanced\")\n",
    "\n",
    "classifier2 = XGBClassifier(max_depth=5, learning_rate=0.1, n_estimators=66, verbosity=1,\n",
    "                                        tree_method='auto',\n",
    "                                        n_jobs=-1, gpu_id=0, gamma=0, min_child_weight=1,\n",
    "                                        max_delta_step=0, subsample=1, colsample_bytree=1,\n",
    "                                        colsample_bylevel=1, colsample_bynode=1, reg_alpha=0,\n",
    "                                        reg_lambda=1, scale_pos_weight=6, base_score=0.5,\n",
    "                                        random_state=0, missing=None)\n",
    "ada = AdaBoostClassifier()\n",
    "ova = OneVsRestClassifier(estimator=classifier2)\n",
    "tuned_parameters2 = [{'estimator__n_estimators':[20], 'estimator__max_depth':[5]}]\n",
    "\n",
    "\n",
    "grid2 = GridSearchCV(ova,  param_grid=tuned_parameters2,  scoring=bmc_scorer, n_jobs=-1,cv =10, verbose=3)\n",
    "\n",
    "\n",
    "\n",
    "\n",
    "\n"
   ]
  },
  {
   "cell_type": "code",
   "execution_count": 134,
   "metadata": {},
   "outputs": [
    {
     "name": "stdout",
     "output_type": "stream",
     "text": [
      "Fitting 10 folds for each of 1 candidates, totalling 10 fits\n"
     ]
    },
    {
     "name": "stderr",
     "output_type": "stream",
     "text": [
      "[Parallel(n_jobs=-1)]: Using backend LokyBackend with 8 concurrent workers.\n",
      "[Parallel(n_jobs=-1)]: Done   3 out of  10 | elapsed:   44.4s remaining:  1.7min\n",
      "[Parallel(n_jobs=-1)]: Done   7 out of  10 | elapsed:   44.6s remaining:   19.1s\n",
      "[Parallel(n_jobs=-1)]: Done  10 out of  10 | elapsed:  1.1min finished\n"
     ]
    },
    {
     "name": "stdout",
     "output_type": "stream",
     "text": [
      "Fitting 10 folds for each of 1 candidates, totalling 10 fits\n"
     ]
    },
    {
     "name": "stderr",
     "output_type": "stream",
     "text": [
      "[Parallel(n_jobs=-1)]: Using backend LokyBackend with 8 concurrent workers.\n",
      "[Parallel(n_jobs=-1)]: Done   3 out of  10 | elapsed:   43.8s remaining:  1.7min\n",
      "[Parallel(n_jobs=-1)]: Done   7 out of  10 | elapsed:   44.1s remaining:   18.9s\n",
      "[Parallel(n_jobs=-1)]: Done  10 out of  10 | elapsed:  1.1min finished\n"
     ]
    },
    {
     "name": "stdout",
     "output_type": "stream",
     "text": [
      "FINAL VALIDATION 0.81796875\n"
     ]
    }
   ],
   "source": [
    "#x_train, x_val, y_train, y_val = train_test_split(X_2_rest, labels_rest, test_size=0.25, random_state=0, stratify=labels)\n",
    "x_train, x_val, y_train, y_val = train_test_split(X2, labels, test_size=0.25, random_state=0, stratify=labels)\n",
    "\n",
    "\n",
    "grid2.fit(x_train,y_train)\n",
    "\n",
    "grid2.fit(x_train,y_train)\n",
    "y_pred = grid2.predict(x_val)\n",
    "F1 = f1_score(y_val, y_pred, average='micro')\n",
    "print(\"FINAL VALIDATION {}\".format(F1))"
   ]
  },
  {
   "cell_type": "code",
   "execution_count": 135,
   "metadata": {},
   "outputs": [
    {
     "data": {
      "text/plain": [
       "{'mean_fit_time': array([39.39585977]),\n",
       " 'std_fit_time': array([8.95670957]),\n",
       " 'mean_score_time': array([0.03712521]),\n",
       " 'std_score_time': array([0.01062188]),\n",
       " 'param_estimator__max_depth': masked_array(data=[5],\n",
       "              mask=[False],\n",
       "        fill_value='?',\n",
       "             dtype=object),\n",
       " 'param_estimator__n_estimators': masked_array(data=[20],\n",
       "              mask=[False],\n",
       "        fill_value='?',\n",
       "             dtype=object),\n",
       " 'params': [{'estimator__max_depth': 5, 'estimator__n_estimators': 20}],\n",
       " 'split0_test_score': array([0.81240069]),\n",
       " 'split1_test_score': array([0.83302305]),\n",
       " 'split2_test_score': array([0.79620908]),\n",
       " 'split3_test_score': array([0.79986982]),\n",
       " 'split4_test_score': array([0.77438259]),\n",
       " 'split5_test_score': array([0.81969694]),\n",
       " 'split6_test_score': array([0.79445275]),\n",
       " 'split7_test_score': array([0.7931409]),\n",
       " 'split8_test_score': array([0.82245337]),\n",
       " 'split9_test_score': array([0.80397884]),\n",
       " 'mean_test_score': array([0.80497268]),\n",
       " 'std_test_score': array([0.01630419]),\n",
       " 'rank_test_score': array([1], dtype=int32)}"
      ]
     },
     "execution_count": 135,
     "metadata": {},
     "output_type": "execute_result"
    }
   ],
   "source": [
    "grid2.cv_results_"
   ]
  },
  {
   "cell_type": "code",
   "execution_count": 136,
   "metadata": {},
   "outputs": [
    {
     "name": "stdout",
     "output_type": "stream",
     "text": [
      "Fitting 10 folds for each of 1 candidates, totalling 10 fits\n"
     ]
    },
    {
     "name": "stderr",
     "output_type": "stream",
     "text": [
      "[Parallel(n_jobs=-1)]: Using backend LokyBackend with 8 concurrent workers.\n",
      "[Parallel(n_jobs=-1)]: Done   3 out of  10 | elapsed:   20.7s remaining:   48.4s\n",
      "[Parallel(n_jobs=-1)]: Done   7 out of  10 | elapsed:   20.7s remaining:    8.9s\n"
     ]
    },
    {
     "ename": "KeyboardInterrupt",
     "evalue": "",
     "output_type": "error",
     "traceback": [
      "\u001b[0;31m---------------------------------------------------------------------------\u001b[0m",
      "\u001b[0;31mKeyboardInterrupt\u001b[0m                         Traceback (most recent call last)",
      "\u001b[0;32m<ipython-input-136-0e949abc5135>\u001b[0m in \u001b[0;36m<module>\u001b[0;34m\u001b[0m\n\u001b[0;32m----> 1\u001b[0;31m \u001b[0mgrid2\u001b[0m\u001b[0;34m.\u001b[0m\u001b[0mfit\u001b[0m\u001b[0;34m(\u001b[0m\u001b[0mX2\u001b[0m\u001b[0;34m,\u001b[0m\u001b[0mlabels\u001b[0m\u001b[0;34m)\u001b[0m\u001b[0;34m\u001b[0m\u001b[0;34m\u001b[0m\u001b[0m\n\u001b[0m\u001b[1;32m      2\u001b[0m \u001b[0my_final\u001b[0m \u001b[0;34m=\u001b[0m \u001b[0mgrid2\u001b[0m\u001b[0;34m.\u001b[0m\u001b[0mpredict\u001b[0m\u001b[0;34m(\u001b[0m\u001b[0mX_test\u001b[0m\u001b[0;34m)\u001b[0m\u001b[0;34m\u001b[0m\u001b[0;34m\u001b[0m\u001b[0m\n\u001b[1;32m      3\u001b[0m \u001b[0;31m#y_final[np.argwhere(y_3s==3)] = 3\u001b[0m\u001b[0;34m\u001b[0m\u001b[0;34m\u001b[0m\u001b[0;34m\u001b[0m\u001b[0m\n\u001b[1;32m      4\u001b[0m \u001b[0msample\u001b[0m \u001b[0;34m=\u001b[0m \u001b[0mpd\u001b[0m\u001b[0;34m.\u001b[0m\u001b[0mread_csv\u001b[0m\u001b[0;34m(\u001b[0m\u001b[0;34m\"sample.csv\"\u001b[0m\u001b[0;34m,\u001b[0m \u001b[0mdelimiter\u001b[0m\u001b[0;34m=\u001b[0m\u001b[0;34m','\u001b[0m\u001b[0;34m)\u001b[0m\u001b[0;34m\u001b[0m\u001b[0;34m\u001b[0m\u001b[0m\n\u001b[1;32m      5\u001b[0m \u001b[0msample\u001b[0m\u001b[0;34m[\u001b[0m\u001b[0;34m'y'\u001b[0m\u001b[0;34m]\u001b[0m \u001b[0;34m=\u001b[0m \u001b[0my_final\u001b[0m\u001b[0;34m\u001b[0m\u001b[0;34m\u001b[0m\u001b[0m\n",
      "\u001b[0;32m//anaconda3/lib/python3.7/site-packages/sklearn/model_selection/_search.py\u001b[0m in \u001b[0;36mfit\u001b[0;34m(self, X, y, groups, **fit_params)\u001b[0m\n\u001b[1;32m    686\u001b[0m                 \u001b[0;32mreturn\u001b[0m \u001b[0mresults\u001b[0m\u001b[0;34m\u001b[0m\u001b[0;34m\u001b[0m\u001b[0m\n\u001b[1;32m    687\u001b[0m \u001b[0;34m\u001b[0m\u001b[0m\n\u001b[0;32m--> 688\u001b[0;31m             \u001b[0mself\u001b[0m\u001b[0;34m.\u001b[0m\u001b[0m_run_search\u001b[0m\u001b[0;34m(\u001b[0m\u001b[0mevaluate_candidates\u001b[0m\u001b[0;34m)\u001b[0m\u001b[0;34m\u001b[0m\u001b[0;34m\u001b[0m\u001b[0m\n\u001b[0m\u001b[1;32m    689\u001b[0m \u001b[0;34m\u001b[0m\u001b[0m\n\u001b[1;32m    690\u001b[0m         \u001b[0;31m# For multi-metric evaluation, store the best_index_, best_params_ and\u001b[0m\u001b[0;34m\u001b[0m\u001b[0;34m\u001b[0m\u001b[0;34m\u001b[0m\u001b[0m\n",
      "\u001b[0;32m//anaconda3/lib/python3.7/site-packages/sklearn/model_selection/_search.py\u001b[0m in \u001b[0;36m_run_search\u001b[0;34m(self, evaluate_candidates)\u001b[0m\n\u001b[1;32m   1147\u001b[0m     \u001b[0;32mdef\u001b[0m \u001b[0m_run_search\u001b[0m\u001b[0;34m(\u001b[0m\u001b[0mself\u001b[0m\u001b[0;34m,\u001b[0m \u001b[0mevaluate_candidates\u001b[0m\u001b[0;34m)\u001b[0m\u001b[0;34m:\u001b[0m\u001b[0;34m\u001b[0m\u001b[0;34m\u001b[0m\u001b[0m\n\u001b[1;32m   1148\u001b[0m         \u001b[0;34m\"\"\"Search all candidates in param_grid\"\"\"\u001b[0m\u001b[0;34m\u001b[0m\u001b[0;34m\u001b[0m\u001b[0m\n\u001b[0;32m-> 1149\u001b[0;31m         \u001b[0mevaluate_candidates\u001b[0m\u001b[0;34m(\u001b[0m\u001b[0mParameterGrid\u001b[0m\u001b[0;34m(\u001b[0m\u001b[0mself\u001b[0m\u001b[0;34m.\u001b[0m\u001b[0mparam_grid\u001b[0m\u001b[0;34m)\u001b[0m\u001b[0;34m)\u001b[0m\u001b[0;34m\u001b[0m\u001b[0;34m\u001b[0m\u001b[0m\n\u001b[0m\u001b[1;32m   1150\u001b[0m \u001b[0;34m\u001b[0m\u001b[0m\n\u001b[1;32m   1151\u001b[0m \u001b[0;34m\u001b[0m\u001b[0m\n",
      "\u001b[0;32m//anaconda3/lib/python3.7/site-packages/sklearn/model_selection/_search.py\u001b[0m in \u001b[0;36mevaluate_candidates\u001b[0;34m(candidate_params)\u001b[0m\n\u001b[1;32m    665\u001b[0m                                \u001b[0;32mfor\u001b[0m \u001b[0mparameters\u001b[0m\u001b[0;34m,\u001b[0m \u001b[0;34m(\u001b[0m\u001b[0mtrain\u001b[0m\u001b[0;34m,\u001b[0m \u001b[0mtest\u001b[0m\u001b[0;34m)\u001b[0m\u001b[0;34m\u001b[0m\u001b[0;34m\u001b[0m\u001b[0m\n\u001b[1;32m    666\u001b[0m                                in product(candidate_params,\n\u001b[0;32m--> 667\u001b[0;31m                                           cv.split(X, y, groups)))\n\u001b[0m\u001b[1;32m    668\u001b[0m \u001b[0;34m\u001b[0m\u001b[0m\n\u001b[1;32m    669\u001b[0m                 \u001b[0;32mif\u001b[0m \u001b[0mlen\u001b[0m\u001b[0;34m(\u001b[0m\u001b[0mout\u001b[0m\u001b[0;34m)\u001b[0m \u001b[0;34m<\u001b[0m \u001b[0;36m1\u001b[0m\u001b[0;34m:\u001b[0m\u001b[0;34m\u001b[0m\u001b[0;34m\u001b[0m\u001b[0m\n",
      "\u001b[0;32m//anaconda3/lib/python3.7/site-packages/joblib/parallel.py\u001b[0m in \u001b[0;36m__call__\u001b[0;34m(self, iterable)\u001b[0m\n\u001b[1;32m    932\u001b[0m \u001b[0;34m\u001b[0m\u001b[0m\n\u001b[1;32m    933\u001b[0m             \u001b[0;32mwith\u001b[0m \u001b[0mself\u001b[0m\u001b[0;34m.\u001b[0m\u001b[0m_backend\u001b[0m\u001b[0;34m.\u001b[0m\u001b[0mretrieval_context\u001b[0m\u001b[0;34m(\u001b[0m\u001b[0;34m)\u001b[0m\u001b[0;34m:\u001b[0m\u001b[0;34m\u001b[0m\u001b[0;34m\u001b[0m\u001b[0m\n\u001b[0;32m--> 934\u001b[0;31m                 \u001b[0mself\u001b[0m\u001b[0;34m.\u001b[0m\u001b[0mretrieve\u001b[0m\u001b[0;34m(\u001b[0m\u001b[0;34m)\u001b[0m\u001b[0;34m\u001b[0m\u001b[0;34m\u001b[0m\u001b[0m\n\u001b[0m\u001b[1;32m    935\u001b[0m             \u001b[0;31m# Make sure that we get a last message telling us we are done\u001b[0m\u001b[0;34m\u001b[0m\u001b[0;34m\u001b[0m\u001b[0;34m\u001b[0m\u001b[0m\n\u001b[1;32m    936\u001b[0m             \u001b[0melapsed_time\u001b[0m \u001b[0;34m=\u001b[0m \u001b[0mtime\u001b[0m\u001b[0;34m.\u001b[0m\u001b[0mtime\u001b[0m\u001b[0;34m(\u001b[0m\u001b[0;34m)\u001b[0m \u001b[0;34m-\u001b[0m \u001b[0mself\u001b[0m\u001b[0;34m.\u001b[0m\u001b[0m_start_time\u001b[0m\u001b[0;34m\u001b[0m\u001b[0;34m\u001b[0m\u001b[0m\n",
      "\u001b[0;32m//anaconda3/lib/python3.7/site-packages/joblib/parallel.py\u001b[0m in \u001b[0;36mretrieve\u001b[0;34m(self)\u001b[0m\n\u001b[1;32m    831\u001b[0m             \u001b[0;32mtry\u001b[0m\u001b[0;34m:\u001b[0m\u001b[0;34m\u001b[0m\u001b[0;34m\u001b[0m\u001b[0m\n\u001b[1;32m    832\u001b[0m                 \u001b[0;32mif\u001b[0m \u001b[0mgetattr\u001b[0m\u001b[0;34m(\u001b[0m\u001b[0mself\u001b[0m\u001b[0;34m.\u001b[0m\u001b[0m_backend\u001b[0m\u001b[0;34m,\u001b[0m \u001b[0;34m'supports_timeout'\u001b[0m\u001b[0;34m,\u001b[0m \u001b[0;32mFalse\u001b[0m\u001b[0;34m)\u001b[0m\u001b[0;34m:\u001b[0m\u001b[0;34m\u001b[0m\u001b[0;34m\u001b[0m\u001b[0m\n\u001b[0;32m--> 833\u001b[0;31m                     \u001b[0mself\u001b[0m\u001b[0;34m.\u001b[0m\u001b[0m_output\u001b[0m\u001b[0;34m.\u001b[0m\u001b[0mextend\u001b[0m\u001b[0;34m(\u001b[0m\u001b[0mjob\u001b[0m\u001b[0;34m.\u001b[0m\u001b[0mget\u001b[0m\u001b[0;34m(\u001b[0m\u001b[0mtimeout\u001b[0m\u001b[0;34m=\u001b[0m\u001b[0mself\u001b[0m\u001b[0;34m.\u001b[0m\u001b[0mtimeout\u001b[0m\u001b[0;34m)\u001b[0m\u001b[0;34m)\u001b[0m\u001b[0;34m\u001b[0m\u001b[0;34m\u001b[0m\u001b[0m\n\u001b[0m\u001b[1;32m    834\u001b[0m                 \u001b[0;32melse\u001b[0m\u001b[0;34m:\u001b[0m\u001b[0;34m\u001b[0m\u001b[0;34m\u001b[0m\u001b[0m\n\u001b[1;32m    835\u001b[0m                     \u001b[0mself\u001b[0m\u001b[0;34m.\u001b[0m\u001b[0m_output\u001b[0m\u001b[0;34m.\u001b[0m\u001b[0mextend\u001b[0m\u001b[0;34m(\u001b[0m\u001b[0mjob\u001b[0m\u001b[0;34m.\u001b[0m\u001b[0mget\u001b[0m\u001b[0;34m(\u001b[0m\u001b[0;34m)\u001b[0m\u001b[0;34m)\u001b[0m\u001b[0;34m\u001b[0m\u001b[0;34m\u001b[0m\u001b[0m\n",
      "\u001b[0;32m//anaconda3/lib/python3.7/site-packages/joblib/_parallel_backends.py\u001b[0m in \u001b[0;36mwrap_future_result\u001b[0;34m(future, timeout)\u001b[0m\n\u001b[1;32m    519\u001b[0m         AsyncResults.get from multiprocessing.\"\"\"\n\u001b[1;32m    520\u001b[0m         \u001b[0;32mtry\u001b[0m\u001b[0;34m:\u001b[0m\u001b[0;34m\u001b[0m\u001b[0;34m\u001b[0m\u001b[0m\n\u001b[0;32m--> 521\u001b[0;31m             \u001b[0;32mreturn\u001b[0m \u001b[0mfuture\u001b[0m\u001b[0;34m.\u001b[0m\u001b[0mresult\u001b[0m\u001b[0;34m(\u001b[0m\u001b[0mtimeout\u001b[0m\u001b[0;34m=\u001b[0m\u001b[0mtimeout\u001b[0m\u001b[0;34m)\u001b[0m\u001b[0;34m\u001b[0m\u001b[0;34m\u001b[0m\u001b[0m\n\u001b[0m\u001b[1;32m    522\u001b[0m         \u001b[0;32mexcept\u001b[0m \u001b[0mLokyTimeoutError\u001b[0m\u001b[0;34m:\u001b[0m\u001b[0;34m\u001b[0m\u001b[0;34m\u001b[0m\u001b[0m\n\u001b[1;32m    523\u001b[0m             \u001b[0;32mraise\u001b[0m \u001b[0mTimeoutError\u001b[0m\u001b[0;34m(\u001b[0m\u001b[0;34m)\u001b[0m\u001b[0;34m\u001b[0m\u001b[0;34m\u001b[0m\u001b[0m\n",
      "\u001b[0;32m//anaconda3/lib/python3.7/concurrent/futures/_base.py\u001b[0m in \u001b[0;36mresult\u001b[0;34m(self, timeout)\u001b[0m\n\u001b[1;32m    425\u001b[0m                 \u001b[0;32mreturn\u001b[0m \u001b[0mself\u001b[0m\u001b[0;34m.\u001b[0m\u001b[0m__get_result\u001b[0m\u001b[0;34m(\u001b[0m\u001b[0;34m)\u001b[0m\u001b[0;34m\u001b[0m\u001b[0;34m\u001b[0m\u001b[0m\n\u001b[1;32m    426\u001b[0m \u001b[0;34m\u001b[0m\u001b[0m\n\u001b[0;32m--> 427\u001b[0;31m             \u001b[0mself\u001b[0m\u001b[0;34m.\u001b[0m\u001b[0m_condition\u001b[0m\u001b[0;34m.\u001b[0m\u001b[0mwait\u001b[0m\u001b[0;34m(\u001b[0m\u001b[0mtimeout\u001b[0m\u001b[0;34m)\u001b[0m\u001b[0;34m\u001b[0m\u001b[0;34m\u001b[0m\u001b[0m\n\u001b[0m\u001b[1;32m    428\u001b[0m \u001b[0;34m\u001b[0m\u001b[0m\n\u001b[1;32m    429\u001b[0m             \u001b[0;32mif\u001b[0m \u001b[0mself\u001b[0m\u001b[0;34m.\u001b[0m\u001b[0m_state\u001b[0m \u001b[0;32min\u001b[0m \u001b[0;34m[\u001b[0m\u001b[0mCANCELLED\u001b[0m\u001b[0;34m,\u001b[0m \u001b[0mCANCELLED_AND_NOTIFIED\u001b[0m\u001b[0;34m]\u001b[0m\u001b[0;34m:\u001b[0m\u001b[0;34m\u001b[0m\u001b[0;34m\u001b[0m\u001b[0m\n",
      "\u001b[0;32m//anaconda3/lib/python3.7/threading.py\u001b[0m in \u001b[0;36mwait\u001b[0;34m(self, timeout)\u001b[0m\n\u001b[1;32m    294\u001b[0m         \u001b[0;32mtry\u001b[0m\u001b[0;34m:\u001b[0m    \u001b[0;31m# restore state no matter what (e.g., KeyboardInterrupt)\u001b[0m\u001b[0;34m\u001b[0m\u001b[0;34m\u001b[0m\u001b[0m\n\u001b[1;32m    295\u001b[0m             \u001b[0;32mif\u001b[0m \u001b[0mtimeout\u001b[0m \u001b[0;32mis\u001b[0m \u001b[0;32mNone\u001b[0m\u001b[0;34m:\u001b[0m\u001b[0;34m\u001b[0m\u001b[0;34m\u001b[0m\u001b[0m\n\u001b[0;32m--> 296\u001b[0;31m                 \u001b[0mwaiter\u001b[0m\u001b[0;34m.\u001b[0m\u001b[0macquire\u001b[0m\u001b[0;34m(\u001b[0m\u001b[0;34m)\u001b[0m\u001b[0;34m\u001b[0m\u001b[0;34m\u001b[0m\u001b[0m\n\u001b[0m\u001b[1;32m    297\u001b[0m                 \u001b[0mgotit\u001b[0m \u001b[0;34m=\u001b[0m \u001b[0;32mTrue\u001b[0m\u001b[0;34m\u001b[0m\u001b[0;34m\u001b[0m\u001b[0m\n\u001b[1;32m    298\u001b[0m             \u001b[0;32melse\u001b[0m\u001b[0;34m:\u001b[0m\u001b[0;34m\u001b[0m\u001b[0;34m\u001b[0m\u001b[0m\n",
      "\u001b[0;31mKeyboardInterrupt\u001b[0m: "
     ]
    }
   ],
   "source": [
    "grid2.fit(X2,labels)\n",
    "y_final = grid2.predict(X_test)\n",
    "#y_final[np.argwhere(y_3s==3)] = 3\n",
    "sample = pd.read_csv(\"sample.csv\", delimiter=',')\n",
    "sample['y'] = y_final\n",
    "sample.to_csv(\"OneVsAll_xgboost_featureSelection.csv\", index = False)"
   ]
  },
  {
   "cell_type": "code",
   "execution_count": null,
   "metadata": {},
   "outputs": [],
   "source": []
  }
 ],
 "metadata": {
  "kernelspec": {
   "display_name": "Python 3",
   "language": "python",
   "name": "python3"
  },
  "language_info": {
   "codemirror_mode": {
    "name": "ipython",
    "version": 3
   },
   "file_extension": ".py",
   "mimetype": "text/x-python",
   "name": "python",
   "nbconvert_exporter": "python",
   "pygments_lexer": "ipython3",
   "version": "3.6.8"
  }
 },
 "nbformat": 4,
 "nbformat_minor": 2
}
