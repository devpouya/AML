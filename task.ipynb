{
 "cells": [
  {
   "cell_type": "code",
   "execution_count": 1,
   "metadata": {},
   "outputs": [
    {
     "name": "stdout",
     "output_type": "stream",
     "text": [
      "(5117, 17813)\n",
      "(3411, 17813)\n",
      "(5117,)\n"
     ]
    }
   ],
   "source": [
    "import numpy as np\n",
    "import pandas as pd\n",
    "\n",
    "train_path = \"X_train.csv\"\n",
    "label_path = \"y_train.csv\"\n",
    "test_path = \"X_test.csv\"\n",
    "samples_path = \"samples.csv\"\n",
    "\n",
    "df = pd.read_csv(train_path)\n",
    "test_df = pd.read_csv(test_path)\n",
    "labeldf = pd.read_csv(label_path)\n",
    "\n",
    "\n",
    "labels = labeldf.values\n",
    "data = df.values\n",
    "test_data = test_df.values\n",
    "\n",
    "data = data[:,1:]\n",
    "test_data = test_data[:,1:]\n",
    "labels = labels[:,1]\n",
    "\n",
    "\n",
    "print(data.shape)\n",
    "print(test_data.shape)\n",
    "print(labels.shape)\n",
    "\n"
   ]
  },
  {
   "cell_type": "code",
   "execution_count": 2,
   "metadata": {},
   "outputs": [
    {
     "name": "stdout",
     "output_type": "stream",
     "text": [
      "Class 0 Counts: 3030\n",
      "Class 1 Counts: 443\n",
      "Class 2 Counts: 1474\n",
      "Class 3 Counts: 170\n"
     ]
    }
   ],
   "source": [
    "def count_instances(labels):\n",
    "    unique, counts = np.unique(labels,return_counts=True)\n",
    "    return dict(zip(unique,counts))\n",
    "\n",
    "class_counts = count_instances(labels)\n",
    "\n",
    "print(\"Class 0 Counts: {}\".format(class_counts[0]))\n",
    "print(\"Class 1 Counts: {}\".format(class_counts[1]))\n",
    "print(\"Class 2 Counts: {}\".format(class_counts[2]))\n",
    "print(\"Class 3 Counts: {}\".format(class_counts[3]))\n",
    "\n",
    "\n",
    "(num_train, max_timesteps) = data.shape\n",
    "(num_test, _) = test_data.shape"
   ]
  },
  {
   "cell_type": "code",
   "execution_count": 3,
   "metadata": {},
   "outputs": [
    {
     "name": "stdout",
     "output_type": "stream",
     "text": [
      "Mod_min FFt shape (5117, 379)\n",
      "Zero Padded FFt shape (5117, 17813)\n"
     ]
    }
   ],
   "source": [
    "# dk why I did this, might end up useful\n",
    "def min_len(data):\n",
    "    # faster to search column wise\n",
    "    wherenan = np.isnan(data)\n",
    "    for j in range(data.shape[1]):\n",
    "        if np.any(wherenan[:,j]):\n",
    "            return j\n",
    "    \"\"\"\n",
    "    min_len = data.shape[1]\n",
    "    for i in range(data.shape[0]):\n",
    "        cond = np.isnan(data[i,:])\n",
    "        if np.any(cond):\n",
    "            nan_index = np.where(cond)[0][0]\n",
    "            if nan_index < min_len:\n",
    "                min_len = nan_index\n",
    "            \n",
    "    return min_len\n",
    "    \"\"\"\n",
    "\n",
    "def fft_zero_pad(data):\n",
    "    zero_padded = np.nan_to_num(data)\n",
    "    return np.fft.fft(zero_padded, axis=0)\n",
    "\n",
    "# implementing below link\n",
    "# https://dsp.stackexchange.com/questions/25435/dft-for-audio-classification-signals-of-different-lengths\n",
    "def fft_mod_min(data):\n",
    "    l = min_len(data)\n",
    "    # a divisor of the column number\n",
    "    split_size = data.shape[1]/379\n",
    "    zero_padded = np.nan_to_num(data)\n",
    "    splits = np.split(zero_padded,split_size, axis = 1)\n",
    "    splits = np.array(splits)\n",
    "    # caution: not sure if the order of rows gets messed up here\n",
    "    # so that the labels correspond to the correct order\n",
    "    splits = splits.transpose(1,0,2)\n",
    "    sums = np.sum(splits, axis = 1)\n",
    "    \n",
    "    return np.fft.fft(sums,axis=0)\n",
    "\n",
    "mod_min_fft_train = fft_mod_min(data)\n",
    "zero_pad_fft_train = fft_zero_pad(data)\n",
    "\n",
    "mod_min_fft_test = fft_mod_min(test_data)\n",
    "zero_pad_fft_test = fft_zero_pad(test_data)\n",
    "\n",
    "print(\"Mod_min FFt shape {}\".format(mod_min_fft_train.shape))\n",
    "print(\"Zero Padded FFt shape {}\".format(zero_pad_fft_train.shape))\n",
    "\n"
   ]
  },
  {
   "cell_type": "code",
   "execution_count": 4,
   "metadata": {},
   "outputs": [
    {
     "name": "stdout",
     "output_type": "stream",
     "text": [
      "5117\n",
      "[0, 1, 2]\n"
     ]
    }
   ],
   "source": [
    "#ts, filtered, rpeaks, templates_ts,templates, hear_rate_ts, heart_rate = ecg.ecg(data)\n",
    "print(num_train)\n",
    "a = []\n",
    "for i in range(3):\n",
    "    a.append(i)\n",
    "print(a)"
   ]
  },
  {
   "cell_type": "code",
   "execution_count": 5,
   "metadata": {},
   "outputs": [
    {
     "name": "stdout",
     "output_type": "stream",
     "text": [
      "Index 269 was bad\n",
      "Index 629 was bad\n",
      "Index 690 was bad\n",
      "Index 1024 was bad\n",
      "Index 1115 was bad\n",
      "Index 2354 was bad\n",
      "Index 2627 was bad\n",
      "Index 3350 was bad\n",
      "Index 3424 was bad\n",
      "Index 3962 was bad\n",
      "Index 4021 was bad\n"
     ]
    }
   ],
   "source": [
    "from biosppy.signals.ecg import ecg\n",
    "\n",
    "\n",
    "def extract_heart(data):\n",
    "    All_ts = []\n",
    "    All_filtered = []\n",
    "    All_rpeaks = []\n",
    "    All_templates_ts = []\n",
    "    All_templates = []\n",
    "    All_heart_rate_ts = []\n",
    "    All_heart_rate = []\n",
    "    thrown_away = []\n",
    "    nanplaces = np.isnan(data)\n",
    "    for i in range(data.shape[0]):\n",
    "        stop_index = np.argmax(nanplaces[i,:]==True) -1\n",
    "        try:\n",
    "            ts, filtered, rpeaks, templates_ts,templates, heart_rate_ts, heart_rate = ecg(data[i,:stop_index], show= False)\n",
    "        except:\n",
    "            print(\"Index {} was bad\".format(i))\n",
    "            thrown_away.append(i)\n",
    "        \"\"\"\n",
    "        print(ts.shape)\n",
    "        print(filtered.shape)\n",
    "        print(rpeaks.shape)\n",
    "        print(templates_ts.shape)\n",
    "        print(templates.shape)\n",
    "        print(heart_rate_ts.shape)\n",
    "        print(heart_rate.shape)\n",
    "        \"\"\"\n",
    "        All_ts.append(ts)\n",
    "        All_filtered.append(filtered)\n",
    "        All_rpeaks.append(rpeaks)\n",
    "        All_templates_ts.append(templates_ts)\n",
    "        All_templates.append(templates)\n",
    "        All_heart_rate_ts.append(heart_rate_ts)\n",
    "        All_heart_rate.append(heart_rate)\n",
    "        \n",
    "    return All_ts, All_filtered, All_rpeaks, All_templates_ts, All_templates, All_heart_rate_ts, All_heart_rate, thrown_away\n",
    "        \n",
    "\n",
    "ts, filtered, rpeaks, templates_ts,templates, heart_rate_ts, heart_rate, thrown_away= extract_heart(data)\n"
   ]
  },
  {
   "cell_type": "code",
   "execution_count": 59,
   "metadata": {},
   "outputs": [
    {
     "ename": "TypeError",
     "evalue": "object of type 'NoneType' has no len()",
     "output_type": "error",
     "traceback": [
      "\u001b[0;31m---------------------------------------------------------------------------\u001b[0m",
      "\u001b[0;31mTypeError\u001b[0m                                 Traceback (most recent call last)",
      "\u001b[0;32m<ipython-input-59-db2861bad056>\u001b[0m in \u001b[0;36m<module>\u001b[0;34m\u001b[0m\n\u001b[1;32m      8\u001b[0m         \u001b[0mheart_np\u001b[0m\u001b[0;34m[\u001b[0m\u001b[0mi\u001b[0m\u001b[0;34m,\u001b[0m\u001b[0;34m:\u001b[0m\u001b[0;34m]\u001b[0m \u001b[0;34m=\u001b[0m \u001b[0mnp\u001b[0m\u001b[0;34m.\u001b[0m\u001b[0mconcatenate\u001b[0m\u001b[0;34m(\u001b[0m\u001b[0;34m(\u001b[0m\u001b[0mvals\u001b[0m\u001b[0;34m,\u001b[0m\u001b[0mnans\u001b[0m\u001b[0;34m)\u001b[0m\u001b[0;34m,\u001b[0m\u001b[0maxis\u001b[0m\u001b[0;34m=\u001b[0m\u001b[0;36m1\u001b[0m\u001b[0;34m)\u001b[0m\u001b[0;34m\u001b[0m\u001b[0;34m\u001b[0m\u001b[0m\n\u001b[1;32m      9\u001b[0m \u001b[0;34m\u001b[0m\u001b[0m\n\u001b[0;32m---> 10\u001b[0;31m \u001b[0mts\u001b[0m \u001b[0;34m=\u001b[0m \u001b[0mmake_numpy\u001b[0m\u001b[0;34m(\u001b[0m\u001b[0mts\u001b[0m\u001b[0;34m)\u001b[0m\u001b[0;34m\u001b[0m\u001b[0;34m\u001b[0m\u001b[0m\n\u001b[0m\u001b[1;32m     11\u001b[0m \u001b[0mfiltered\u001b[0m \u001b[0;34m=\u001b[0m \u001b[0mmake_numpy\u001b[0m\u001b[0;34m(\u001b[0m\u001b[0mfiltered\u001b[0m\u001b[0;34m)\u001b[0m\u001b[0;34m\u001b[0m\u001b[0;34m\u001b[0m\u001b[0m\n\u001b[1;32m     12\u001b[0m \u001b[0mrpeaks\u001b[0m \u001b[0;34m=\u001b[0m \u001b[0mmake_numpy\u001b[0m\u001b[0;34m(\u001b[0m\u001b[0mrpeaks\u001b[0m\u001b[0;34m)\u001b[0m\u001b[0;34m\u001b[0m\u001b[0;34m\u001b[0m\u001b[0m\n",
      "\u001b[0;32m<ipython-input-59-db2861bad056>\u001b[0m in \u001b[0;36mmake_numpy\u001b[0;34m(heart_thing)\u001b[0m\n\u001b[1;32m      1\u001b[0m \u001b[0;32mdef\u001b[0m \u001b[0mmake_numpy\u001b[0m\u001b[0;34m(\u001b[0m\u001b[0mheart_thing\u001b[0m\u001b[0;34m)\u001b[0m\u001b[0;34m:\u001b[0m\u001b[0;34m\u001b[0m\u001b[0;34m\u001b[0m\u001b[0m\n\u001b[1;32m      2\u001b[0m \u001b[0;34m\u001b[0m\u001b[0m\n\u001b[0;32m----> 3\u001b[0;31m     \u001b[0mheart_np\u001b[0m \u001b[0;34m=\u001b[0m \u001b[0mnp\u001b[0m\u001b[0;34m.\u001b[0m\u001b[0mzeros\u001b[0m\u001b[0;34m(\u001b[0m\u001b[0;34m(\u001b[0m\u001b[0mlen\u001b[0m\u001b[0;34m(\u001b[0m\u001b[0mheart_thing\u001b[0m\u001b[0;34m)\u001b[0m\u001b[0;34m,\u001b[0m\u001b[0mmax_timesteps\u001b[0m\u001b[0;34m)\u001b[0m\u001b[0;34m)\u001b[0m\u001b[0;34m\u001b[0m\u001b[0;34m\u001b[0m\u001b[0m\n\u001b[0m\u001b[1;32m      4\u001b[0m     \u001b[0;32mfor\u001b[0m \u001b[0mi\u001b[0m \u001b[0;32min\u001b[0m \u001b[0mrange\u001b[0m\u001b[0;34m(\u001b[0m\u001b[0mheart_np\u001b[0m\u001b[0;34m.\u001b[0m\u001b[0mshape\u001b[0m\u001b[0;34m[\u001b[0m\u001b[0;36m0\u001b[0m\u001b[0;34m]\u001b[0m\u001b[0;34m)\u001b[0m\u001b[0;34m:\u001b[0m\u001b[0;34m\u001b[0m\u001b[0;34m\u001b[0m\u001b[0m\n\u001b[1;32m      5\u001b[0m         \u001b[0mnans\u001b[0m \u001b[0;34m=\u001b[0m \u001b[0mnp\u001b[0m\u001b[0;34m.\u001b[0m\u001b[0mempty\u001b[0m\u001b[0;34m(\u001b[0m\u001b[0;34m(\u001b[0m\u001b[0;36m1\u001b[0m\u001b[0;34m,\u001b[0m\u001b[0mmax_timesteps\u001b[0m\u001b[0;34m-\u001b[0m\u001b[0mlen\u001b[0m\u001b[0;34m(\u001b[0m\u001b[0mheart_thing\u001b[0m\u001b[0;34m[\u001b[0m\u001b[0mi\u001b[0m\u001b[0;34m]\u001b[0m\u001b[0;34m)\u001b[0m\u001b[0;34m)\u001b[0m\u001b[0;34m)\u001b[0m\u001b[0;34m\u001b[0m\u001b[0;34m\u001b[0m\u001b[0m\n",
      "\u001b[0;31mTypeError\u001b[0m: object of type 'NoneType' has no len()"
     ]
    }
   ],
   "source": [
    "def make_numpy(heart_thing):\n",
    "    \n",
    "    heart_np = np.zeros((len(heart_thing),max_timesteps))\n",
    "    for i in range(heart_np.shape[0]):\n",
    "        nans = np.empty((1,max_timesteps-len(heart_thing[i])))\n",
    "        nans[:] = np.nan\n",
    "        vals = np.array(heart_thing[i]).reshape(1,len(heart_thing[i]))\n",
    "        heart_np[i,:] = np.concatenate((vals,nans),axis=1)\n",
    "\n",
    "ts = make_numpy(ts)\n",
    "filtered = make_numpy(filtered)\n",
    "rpeaks = make_numpy(rpeaks)\n",
    "templates_ts = make_numpy(templates_ts)\n",
    "#templates = make_numpy(templates)\n",
    "heart_rate_ts = make_numpy(heart_rate_ts)\n",
    "heart_rate = make_numpy(heart_rate)\n"
   ]
  },
  {
   "cell_type": "code",
   "execution_count": 6,
   "metadata": {},
   "outputs": [
    {
     "name": "stdout",
     "output_type": "stream",
     "text": [
      "(1022, 1)\n",
      "Number of instances in fold 0\n",
      "Class 0 Counts: 606\n",
      "Class 1 Counts: 88\n",
      "Class 2 Counts: 294\n",
      "Class 3 Counts: 34\n",
      "(1022, 1)\n",
      "Number of instances in fold 1\n",
      "Class 0 Counts: 606\n",
      "Class 1 Counts: 88\n",
      "Class 2 Counts: 294\n",
      "Class 3 Counts: 34\n",
      "(1022, 1)\n",
      "Number of instances in fold 2\n",
      "Class 0 Counts: 606\n",
      "Class 1 Counts: 88\n",
      "Class 2 Counts: 294\n",
      "Class 3 Counts: 34\n",
      "(1022, 1)\n",
      "Number of instances in fold 3\n",
      "Class 0 Counts: 606\n",
      "Class 1 Counts: 88\n",
      "Class 2 Counts: 294\n",
      "Class 3 Counts: 34\n",
      "(1022, 1)\n",
      "Number of instances in fold 4\n",
      "Class 0 Counts: 606\n",
      "Class 1 Counts: 88\n",
      "Class 2 Counts: 294\n",
      "Class 3 Counts: 34\n"
     ]
    }
   ],
   "source": [
    "import math\n",
    "\n",
    "\n",
    "def make_folds(num_folds, data, labels):\n",
    "    y_0 = np.argwhere(labels==0)\n",
    "    y_1 = np.argwhere(labels==1)\n",
    "    y_2 = np.argwhere(labels==2)\n",
    "    y_3 = np.argwhere(labels==3)\n",
    "\n",
    "    X_0 = data[y_0].reshape(y_0.shape[0],data.shape[1])\n",
    "    X_1 = data[y_1].reshape(y_1.shape[0],data.shape[1])\n",
    "    X_2 = data[y_2].reshape(y_2.shape[0],data.shape[1])\n",
    "    X_3 = data[y_3].reshape(y_3.shape[0],data.shape[1])\n",
    "\n",
    "\n",
    "\n",
    "    num_0 = math.floor(X_0.shape[0]/num_folds)\n",
    "    num_1 = math.floor(X_1.shape[0]/num_folds)\n",
    "    num_2 = math.floor(X_2.shape[0]/num_folds)\n",
    "    num_3 = math.floor(X_3.shape[0]/num_folds)\n",
    "\n",
    "\n",
    "\n",
    "    y_folds = []\n",
    "    x_folds = []\n",
    "\n",
    "    for i in range(num_folds):\n",
    "    \n",
    "        y0 = np.zeros((num_0,1))\n",
    "        y1 = np.ones((num_1,1))\n",
    "        y2 = np.ones((num_2,1))*2\n",
    "        y3 = np.ones((num_3,1))*3\n",
    "        y = np.concatenate((y0,y1,y2,y3))\n",
    "        y = y.reshape(y.shape[0],1)\n",
    "        y_folds.append(y)\n",
    "        x0 = X_0[i*num_0:(i+1)*num_0,:]\n",
    "        x1 = X_1[i*num_1:(i+1)*num_1,:]\n",
    "        x2 = X_2[i*num_2:(i+1)*num_2,:]\n",
    "        x3 = X_3[i*num_3:(i+1)*num_3,:]\n",
    "        x = np.concatenate((x0,x1,x2,x3))\n",
    "        x_folds.append(x)\n",
    "        \n",
    "    return x_folds, y_folds\n",
    "    \n",
    "\n",
    "x_folds, y_folds = make_folds(5, data, labels)\n",
    "for i, y in enumerate(y_folds):\n",
    "    print(y_folds[i].shape)\n",
    "    print(\"Number of instances in fold {}\".format(i))\n",
    "    class_counts = count_instances(y_folds[i])\n",
    "    print(\"Class 0 Counts: {}\".format(class_counts[0]))\n",
    "    print(\"Class 1 Counts: {}\".format(class_counts[1]))\n",
    "    print(\"Class 2 Counts: {}\".format(class_counts[2]))\n",
    "    print(\"Class 3 Counts: {}\".format(class_counts[3]))\n",
    "\n",
    "\n",
    "    "
   ]
  },
  {
   "cell_type": "code",
   "execution_count": 7,
   "metadata": {},
   "outputs": [],
   "source": [
    "x_modtrain, y_modtrain = make_folds(5,mod_min_fft_train,labels)\n",
    "\n",
    "x_zerotrain, y_zerotrain = make_folds(5,zero_pad_fft_train,labels)\n",
    "\n",
    "\n"
   ]
  },
  {
   "cell_type": "code",
   "execution_count": null,
   "metadata": {},
   "outputs": [],
   "source": []
  }
 ],
 "metadata": {
  "kernelspec": {
   "display_name": "Python 3",
   "language": "python",
   "name": "python3"
  },
  "language_info": {
   "codemirror_mode": {
    "name": "ipython",
    "version": 3
   },
   "file_extension": ".py",
   "mimetype": "text/x-python",
   "name": "python",
   "nbconvert_exporter": "python",
   "pygments_lexer": "ipython3",
   "version": "3.7.3"
  }
 },
 "nbformat": 4,
 "nbformat_minor": 2
}
