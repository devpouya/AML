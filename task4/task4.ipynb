{
 "cells": [
  {
   "cell_type": "markdown",
   "metadata": {},
   "source": [
    "# loading libraries"
   ]
  },
  {
   "cell_type": "code",
   "execution_count": 1,
   "metadata": {},
   "outputs": [],
   "source": [
    "import numpy as np\n",
    "import pandas as pd"
   ]
  },
  {
   "cell_type": "markdown",
   "metadata": {},
   "source": [
    "# load training data"
   ]
  },
  {
   "cell_type": "code",
   "execution_count": 2,
   "metadata": {},
   "outputs": [],
   "source": [
    "train_eeg1path = \"train_eeg1.csv\"\n",
    "train_eeg2path = \"train_eeg2.csv\"\n",
    "train_emgpath = \"train_emg.csv\"\n",
    "\n",
    "label_path = \"train_labels.csv\"\n",
    "\n",
    "df_eeg1 = pd.read_csv(train_eeg1path)\n",
    "df_eeg2 = pd.read_csv(train_eeg2path)\n",
    "df_emg = pd.read_csv(train_emgpath)\n",
    "\n",
    "eeg1_data = df_eeg1.values\n",
    "eeg2_data = df_eeg2.values\n",
    "emg_data = df_emg.values\n",
    "\n",
    "eeg1_data = eeg1_data[:,1:]\n",
    "eeg2_data = eeg2_data[:,1:]\n",
    "emg_data = emg_data[:,1:]\n",
    "\n",
    "df_labels = pd.read_csv(label_path)\n",
    "\n",
    "labels = df_labels.values\n",
    "labels = labels[:,1]"
   ]
  },
  {
   "cell_type": "markdown",
   "metadata": {},
   "source": [
    "training data:\n",
    "-3 subjects\n",
    "-for each subject 21'600 epochs à 4 seconds to train"
   ]
  },
  {
   "cell_type": "code",
   "execution_count": 14,
   "metadata": {},
   "outputs": [
    {
     "name": "stdout",
     "output_type": "stream",
     "text": [
      "EEG1 (64800, 512)\n",
      "EEG2 (64800, 512)\n",
      "EMG (64800, 512)\n"
     ]
    }
   ],
   "source": [
    "print(\"EEG1\",eeg1_data.shape)\n",
    "print(\"EEG2\",eeg2_data.shape)\n",
    "print(\"EMG\",emg_data.shape)"
   ]
  },
  {
   "cell_type": "markdown",
   "metadata": {},
   "source": [
    "# load test data"
   ]
  },
  {
   "cell_type": "code",
   "execution_count": 2,
   "metadata": {},
   "outputs": [],
   "source": [
    "test_eeg1path = \"test_eeg1.csv\"\n",
    "test_eeg2path = \"test_eeg2.csv\"\n",
    "test_emgpath = \"test_emg.csv\"\n",
    "\n",
    "sample_path = \"sample.csv\"\n",
    "\n",
    "\n",
    "test_eeg1 = pd.read_csv(test_eeg1path)\n",
    "test_eeg2 = pd.read_csv(test_eeg2path)\n",
    "test_emg = pd.read_csv(test_emgpath)\n",
    "\n",
    "eeg1_test = test_eeg1.values\n",
    "eeg2_test = test_eeg2.values\n",
    "emg_test = test_emg.values\n",
    "\n",
    "eeg1_test = eeg1_test[:,1:]\n",
    "eeg2_test = eeg2_test[:,1:]\n",
    "emg_test = emg_test[:,1:]"
   ]
  },
  {
   "cell_type": "code",
   "execution_count": 4,
   "metadata": {},
   "outputs": [
    {
     "name": "stdout",
     "output_type": "stream",
     "text": [
      "(43200, 512)\n",
      "(43200, 512)\n",
      "(43200, 512)\n"
     ]
    }
   ],
   "source": [
    "print(eeg1_test.shape)\n",
    "print(eeg2_test.shape)\n",
    "print(emg_test.shape)"
   ]
  },
  {
   "cell_type": "markdown",
   "metadata": {},
   "source": [
    "# count number of labels per class"
   ]
  },
  {
   "cell_type": "code",
   "execution_count": 4,
   "metadata": {},
   "outputs": [
    {
     "name": "stdout",
     "output_type": "stream",
     "text": [
      "{1: 34114, 2: 27133, 3: 3553}\n"
     ]
    },
    {
     "data": {
      "text/plain": [
       "{1: 34114, 2: 27133, 3: 3553}"
      ]
     },
     "execution_count": 4,
     "metadata": {},
     "output_type": "execute_result"
    }
   ],
   "source": [
    "def class_counts(lables):\n",
    "    unique, counts = np.unique(labels,return_counts=True)\n",
    "    class_counts = dict(zip(unique,counts))\n",
    "    print(class_counts)\n",
    "    return class_counts\n",
    "\n",
    "class_counts(labels)"
   ]
  },
  {
   "cell_type": "markdown",
   "metadata": {},
   "source": [
    "# confusion matrix code"
   ]
  },
  {
   "cell_type": "code",
   "execution_count": 10,
   "metadata": {},
   "outputs": [],
   "source": [
    "import matplotlib.pyplot as plt\n",
    "def plot_confusion_matrix(y_true, y_pred,\n",
    "                          normalize=False,\n",
    "                          title=None,\n",
    "                          cmap=plt.cm.Blues):\n",
    "    \"\"\"\n",
    "    This function prints and plots the confusion matrix.\n",
    "    Normalization can be applied by setting `normalize=True`.\n",
    "    \"\"\"\n",
    "    if not title:\n",
    "        if normalize:\n",
    "            title = 'Normalized confusion matrix'\n",
    "        else:\n",
    "            title = 'Confusion matrix, without normalization'\n",
    "\n",
    "    # Compute confusion matrix\n",
    "    cm = confusion_matrix(y_true, y_pred)\n",
    "    # Only use the labels that appear in the data\n",
    "    if normalize:\n",
    "        cm = cm.astype('float') / cm.sum(axis=1)[:, np.newaxis]\n",
    "        print(\"Normalized confusion matrix\")\n",
    "    else:\n",
    "        print('Confusion matrix, without normalization')\n",
    "\n",
    "    print(cm)\n",
    "\n",
    "    fig, ax = plt.subplots()\n",
    "    im = ax.imshow(cm, interpolation='nearest', cmap=cmap)\n",
    "    ax.figure.colorbar(im, ax=ax)\n",
    "    # We want to show all ticks...\n",
    "    ax.set(xticks=np.arange(cm.shape[1]),\n",
    "           yticks=np.arange(cm.shape[0]),\n",
    "           # ... and label them with the respective list entries\n",
    "           title=title,\n",
    "           ylabel='True label',\n",
    "           xlabel='Predicted label')\n",
    "\n",
    "    # Rotate the tick labels and set their alignment.\n",
    "    plt.setp(ax.get_xticklabels(), rotation=45, ha=\"right\",\n",
    "             rotation_mode=\"anchor\")\n",
    "\n",
    "    # Loop over data dimensions and create text annotations.\n",
    "    fmt = '.2f' if normalize else 'd'\n",
    "    thresh = cm.max() / 2.\n",
    "    for i in range(cm.shape[0]):\n",
    "        for j in range(cm.shape[1]):\n",
    "            ax.text(j, i, format(cm[i, j], fmt),\n",
    "                    ha=\"center\", va=\"center\",\n",
    "                    color=\"white\" if cm[i, j] > thresh else \"black\")\n",
    "    fig.tight_layout()\n",
    "    return ax\n",
    "\n",
    "\n",
    "np.set_printoptions(precision=2)"
   ]
  },
  {
   "cell_type": "markdown",
   "metadata": {},
   "source": [
    "# data preprocessing"
   ]
  },
  {
   "cell_type": "markdown",
   "metadata": {},
   "source": [
    "prepare data to form the input for the CNN"
   ]
  },
  {
   "cell_type": "markdown",
   "metadata": {},
   "source": [
    "transformations are performed per subject and are meant to diminish non-informative differences in subject specific spectral patterns"
   ]
  },
  {
   "cell_type": "markdown",
   "metadata": {},
   "source": [
    "each sample has 512 values corresponding to 4x128, where 4 is the number of seconds per epoch"
   ]
  },
  {
   "cell_type": "markdown",
   "metadata": {},
   "source": [
    "(a) raw signals seperately transformed into spectogram, via a sequence of short Fourier transforms applied to overlapping Hamming windows"
   ]
  },
  {
   "cell_type": "markdown",
   "metadata": {},
   "source": [
    "(b) EEG signals: band-pass filtered (0.5-24Hz), log transformed"
   ]
  },
  {
   "cell_type": "markdown",
   "metadata": {},
   "source": [
    "(b) EMG signal: power is integrated over frequency range (0.5-30Hz)(sum up the rows in our time frequency representation within the given frequency range), then one-dimensional signal is repeated multiple times, to get same 2-dimensional representation as for the EEG signals"
   ]
  },
  {
   "cell_type": "markdown",
   "metadata": {},
   "source": [
    "(c) and standardized per frequency component (zero mean, unit variance)"
   ]
  },
  {
   "cell_type": "code",
   "execution_count": 3,
   "metadata": {},
   "outputs": [],
   "source": [
    "from scipy import signal\n",
    "import matplotlib.pyplot as plt\n",
    "from scipy.signal import spectrogram\n",
    "import numpy as np                                       \n",
    "import matplotlib.pyplot as plt\n",
    "from scipy import fft                                    \n",
    "import h5py"
   ]
  },
  {
   "cell_type": "code",
   "execution_count": 4,
   "metadata": {},
   "outputs": [],
   "source": [
    "def make_spectrogram_per_subject(data,window_size = 256, stride=16, sampling_frequency= 128, nperseg = 256,\n",
    "                                num_frequencies=24):\n",
    "    num_overlap = nperseg - stride\n",
    "\n",
    "    f, t, sxx = spectrogram(x=data,fs=sampling_frequency,nperseg=nperseg,\n",
    "                            window=signal.windows.hamming(nperseg, sym=False),noverlap=num_overlap)\n",
    "    print(sxx.shape)\n",
    "    return np.log(sxx)[1:1+num_frequencies,:] # log-transformation of signal \n",
    "    "
   ]
  },
  {
   "cell_type": "code",
   "execution_count": 5,
   "metadata": {},
   "outputs": [],
   "source": [
    "def save_spectrogram_per_epoch(spectrogram,standardize=True, num_epochs =21600, num_frequencies = 24,\n",
    "                               points_per_epoch = 512, stride=16):\n",
    "    num_windows_epoch = int(points_per_epoch/stride)\n",
    "    \n",
    "    if (standardize):\n",
    "        rows,cols = spectrogram.shape\n",
    "        for i in range(rows):\n",
    "            mean=np.mean(spectrogram,axis=1)\n",
    "            std=np.std(spectrogram,axis=1)\n",
    "            r,c = spectrogram.shape\n",
    "            for rows in range(r):\n",
    "                for cols in range(c):\n",
    "                        spectrogram[rows,cols] = (spectrogram[rows,cols]-mean[rows]) / std[rows]\n",
    "\n",
    "    \n",
    "    preprocessed = np.zeros((num_epochs,num_frequencies,num_windows_epoch))\n",
    "    for i in range(num_epochs-1):\n",
    "        preprocessed[i] = spectrogram[:,i*num_windows_epoch:(i+1)*num_windows_epoch]\n",
    "\n",
    "    preprocessed[num_epochs-1,0:24,0:17]=spectrogram[0:24,(num_epochs - 1)*num_windows_epoch:]\n",
    "    \n",
    "    return preprocessed\n",
    "    "
   ]
  },
  {
   "cell_type": "markdown",
   "metadata": {},
   "source": [
    "# training data"
   ]
  },
  {
   "cell_type": "markdown",
   "metadata": {},
   "source": [
    "## EEG1 signal"
   ]
  },
  {
   "cell_type": "code",
   "execution_count": 7,
   "metadata": {},
   "outputs": [
    {
     "name": "stdout",
     "output_type": "stream",
     "text": [
      "(11059200,)\n",
      "(129, 691185)\n",
      "(11059200,)\n",
      "(129, 691185)\n",
      "(11059200,)\n",
      "(129, 691185)\n"
     ]
    }
   ],
   "source": [
    "for i in range(3):\n",
    "    eeg1_data_one_dimensional= np.reshape(eeg1_data[i*21600:(i+1)*21600,0:512],-1)\n",
    "    print(eeg1_data_one_dimensional.shape)\n",
    "    \n",
    "    spectrogram_eeg1 = make_spectrogram_per_subject(eeg1_data_one_dimensional)\n",
    "    spectrogram_eeg1_epoch = save_spectrogram_per_epoch(spectrogram_eeg1)\n",
    "    file_name = 'extracted_features_eeg1_'+str(i)+'.h5'\n",
    "    hf1 = h5py.File(file_name, 'w')\n",
    "    hf1.create_dataset('data', data=spectrogram_eeg1_epoch)\n",
    "    hf1.close()"
   ]
  },
  {
   "cell_type": "markdown",
   "metadata": {},
   "source": [
    "## EEG2 signal"
   ]
  },
  {
   "cell_type": "code",
   "execution_count": 18,
   "metadata": {},
   "outputs": [
    {
     "name": "stdout",
     "output_type": "stream",
     "text": [
      "(11059200,)\n",
      "(129, 691185)\n",
      "(11059200,)\n",
      "(129, 691185)\n",
      "(11059200,)\n",
      "(129, 691185)\n"
     ]
    }
   ],
   "source": [
    "for i in range(3):\n",
    "    eeg2_data_one_dimensional= np.reshape(eeg2_data[i*21600:(i+1)*21600,0:512],-1)\n",
    "    print(eeg2_data_one_dimensional.shape)\n",
    "    \n",
    "    spectrogram_eeg2 = make_spectrogram_per_subject(eeg2_data_one_dimensional)\n",
    "    spectrogram_eeg2_epoch = save_spectrogram_per_epoch(spectrogram_eeg2)\n",
    "    file_name = 'extracted_features_eeg2_'+str(i)+'.h5'\n",
    "    hf2 = h5py.File(file_name, 'w')\n",
    "    hf2.create_dataset('data', data=spectrogram_eeg2_epoch)\n",
    "    hf2.close()"
   ]
  },
  {
   "cell_type": "markdown",
   "metadata": {},
   "source": [
    "## EMG signal"
   ]
  },
  {
   "cell_type": "code",
   "execution_count": 6,
   "metadata": {},
   "outputs": [
    {
     "name": "stdout",
     "output_type": "stream",
     "text": [
      "(11059200,)\n",
      "(129, 691185)\n",
      "(691185,)\n",
      "(24, 691185)\n",
      "(11059200,)\n",
      "(129, 691185)\n",
      "(691185,)\n",
      "(24, 691185)\n",
      "(11059200,)\n",
      "(129, 691185)\n",
      "(691185,)\n",
      "(24, 691185)\n"
     ]
    }
   ],
   "source": [
    "for i in range(3):\n",
    "    emg_data_one_dimensional= np.reshape(emg_data[i*21600:(i+1)*21600,0:512],-1)\n",
    "    print(emg_data_one_dimensional.shape)\n",
    "    \n",
    "    spectrogram_emg = make_spectrogram_per_subject(emg_data_one_dimensional,num_frequencies=30)\n",
    "    \n",
    "    spectrogram_emg_sum_one_dimensional = np.sum(spectrogram_emg,axis=0)\n",
    "    print(spectrogram_emg_sum_one_dimensional.shape)\n",
    "\n",
    "    \n",
    "    spectrogram_emg_sum_one_dimensional = np.tile(spectrogram_emg_sum_one_dimensional,(24,1))\n",
    "    print(spectrogram_emg_sum_one_dimensional.shape)\n",
    "    \n",
    "    spectrogram_emg_epoch = save_spectrogram_per_epoch(spectrogram_emg_sum_one_dimensional)\n",
    "    \n",
    "   \n",
    "    \n",
    "    file_name = 'extracted_features_emg_'+str(i)+'.h5'\n",
    "    hfemg = h5py.File(file_name, 'w')\n",
    "    hfemg.create_dataset('data', data=spectrogram_emg_epoch)\n",
    "    hfemg.close()"
   ]
  },
  {
   "cell_type": "markdown",
   "metadata": {},
   "source": [
    "# test data"
   ]
  },
  {
   "cell_type": "markdown",
   "metadata": {},
   "source": [
    "## EEG1"
   ]
  },
  {
   "cell_type": "code",
   "execution_count": 9,
   "metadata": {},
   "outputs": [
    {
     "name": "stdout",
     "output_type": "stream",
     "text": [
      "(11059200,)\n",
      "(129, 691185)\n",
      "(11059200,)\n",
      "(129, 691185)\n"
     ]
    }
   ],
   "source": [
    "for i in range(2):\n",
    "    eeg1_data_one_dimensional= np.reshape(eeg1_test[i*21600:(i+1)*21600,0:512],-1)\n",
    "    print(eeg1_data_one_dimensional.shape)\n",
    "    \n",
    "    spectrogram_eeg1 = make_spectrogram_per_subject(eeg1_data_one_dimensional)\n",
    "    spectrogram_eeg1_epoch = save_spectrogram_per_epoch(spectrogram_eeg1)\n",
    "    file_name = 'extracted_features_eeg1_'+str(i)+'_test.h5'\n",
    "    hf1 = h5py.File(file_name, 'w')\n",
    "    hf1.create_dataset('data', data=spectrogram_eeg1_epoch)\n",
    "    hf1.close()"
   ]
  },
  {
   "cell_type": "markdown",
   "metadata": {},
   "source": [
    "## EEG2"
   ]
  },
  {
   "cell_type": "code",
   "execution_count": 10,
   "metadata": {},
   "outputs": [
    {
     "name": "stdout",
     "output_type": "stream",
     "text": [
      "(11059200,)\n",
      "(129, 691185)\n",
      "(11059200,)\n",
      "(129, 691185)\n"
     ]
    }
   ],
   "source": [
    "for i in range(2):\n",
    "    eeg2_data_one_dimensional= np.reshape(eeg2_test[i*21600:(i+1)*21600,0:512],-1)\n",
    "    print(eeg2_data_one_dimensional.shape)\n",
    "    \n",
    "    spectrogram_eeg2 = make_spectrogram_per_subject(eeg2_data_one_dimensional)\n",
    "    spectrogram_eeg2_epoch = save_spectrogram_per_epoch(spectrogram_eeg2)\n",
    "    file_name = 'extracted_features_eeg2_'+str(i)+'_test.h5'\n",
    "    hf2 = h5py.File(file_name, 'w')\n",
    "    hf2.create_dataset('data', data=spectrogram_eeg2_epoch)\n",
    "    hf2.close()"
   ]
  },
  {
   "cell_type": "markdown",
   "metadata": {},
   "source": [
    "## EMG"
   ]
  },
  {
   "cell_type": "code",
   "execution_count": 11,
   "metadata": {},
   "outputs": [
    {
     "name": "stdout",
     "output_type": "stream",
     "text": [
      "(11059200,)\n",
      "(129, 691185)\n",
      "(691185,)\n",
      "(24, 691185)\n",
      "(11059200,)\n",
      "(129, 691185)\n",
      "(691185,)\n",
      "(24, 691185)\n"
     ]
    }
   ],
   "source": [
    "for i in range(2):\n",
    "    emg_data_one_dimensional= np.reshape(emg_test[i*21600:(i+1)*21600,0:512],-1)\n",
    "    print(emg_data_one_dimensional.shape)\n",
    "    \n",
    "    spectrogram_emg = make_spectrogram_per_subject(emg_data_one_dimensional,num_frequencies=30)\n",
    "    \n",
    "    spectrogram_emg_sum_one_dimensional = np.sum(spectrogram_emg,axis=0)\n",
    "    print(spectrogram_emg_sum_one_dimensional.shape)\n",
    "\n",
    "    \n",
    "    spectrogram_emg_sum_one_dimensional = np.tile(spectrogram_emg_sum_one_dimensional,(24,1))\n",
    "    print(spectrogram_emg_sum_one_dimensional.shape)\n",
    "    \n",
    "    spectrogram_emg_epoch = save_spectrogram_per_epoch(spectrogram_emg_sum_one_dimensional)\n",
    "    \n",
    "   \n",
    "    \n",
    "    file_name = 'extracted_features_emg_'+str(i)+'_test.h5'\n",
    "    hfemg = h5py.File(file_name, 'w')\n",
    "    hfemg.create_dataset('data', data=spectrogram_emg_epoch)\n",
    "    hfemg.close()"
   ]
  },
  {
   "cell_type": "markdown",
   "metadata": {},
   "source": [
    "# read from saved data"
   ]
  },
  {
   "cell_type": "code",
   "execution_count": 7,
   "metadata": {},
   "outputs": [],
   "source": [
    "import h5py\n",
    "hfr = h5py.File('extracted_features_eeg1_0.h5', 'r')"
   ]
  },
  {
   "cell_type": "code",
   "execution_count": 8,
   "metadata": {},
   "outputs": [
    {
     "data": {
      "text/plain": [
       "KeysView(<HDF5 file \"extracted_features_eeg1_0.h5\" (mode r)>)"
      ]
     },
     "execution_count": 8,
     "metadata": {},
     "output_type": "execute_result"
    }
   ],
   "source": [
    "hfr.keys()\n"
   ]
  },
  {
   "cell_type": "code",
   "execution_count": 9,
   "metadata": {},
   "outputs": [],
   "source": [
    "n1 = hfr.get('data')"
   ]
  },
  {
   "cell_type": "code",
   "execution_count": 10,
   "metadata": {},
   "outputs": [
    {
     "data": {
      "text/plain": [
       "(21600, 24, 32)"
      ]
     },
     "execution_count": 10,
     "metadata": {},
     "output_type": "execute_result"
    }
   ],
   "source": [
    "import numpy as np\n",
    "n1 = np.array(n1)\n",
    "n1.shape"
   ]
  },
  {
   "cell_type": "code",
   "execution_count": 11,
   "metadata": {},
   "outputs": [
    {
     "name": "stdout",
     "output_type": "stream",
     "text": [
      "[[-2.03478780e+00 -2.18913132e+00 -1.97816866e+00 -1.66016863e+00\n",
      "  -5.07746008e-01 -7.23465027e-01 -3.46746854e-02 -1.82601715e-01\n",
      "  -7.14868088e-02  1.77189196e-01 -6.49842541e-02 -4.29591866e-01\n",
      "  -2.59286148e-01 -7.31252261e-01 -1.20259300e+00 -8.36155961e-01\n",
      "  -1.00975852e+00 -4.73037012e-01 -2.22364911e-01  2.55370361e-01\n",
      "   5.80745489e-01  5.58037580e-01  5.86966585e-01  7.79856435e-01\n",
      "   6.45948908e-01  5.28453908e-01  4.26111831e-01  3.94596938e-01\n",
      "   2.06756712e-01 -2.14417490e-02 -2.62207600e-01 -2.08229466e-01]\n",
      " [-2.73167318e+00 -2.63875781e+00 -2.13565520e+00 -1.84561360e+00\n",
      "  -1.42972796e+00 -1.13198526e+00 -9.61706072e-01 -5.55544914e-01\n",
      "  -2.45816584e-01  3.74880012e-03  2.36533337e-01  4.38946108e-01\n",
      "   5.29925082e-01  6.59911805e-01  7.55341586e-01  7.59293437e-01\n",
      "   7.82777834e-01  7.78087911e-01  7.61908044e-01  6.89818739e-01\n",
      "   5.77830097e-01  4.68673044e-01  3.19715058e-01  1.58616256e-01\n",
      "   1.70326147e-01  2.86236602e-01  4.65070475e-01  6.41591076e-01\n",
      "   7.93456067e-01  8.82212108e-01  9.03250448e-01  8.60628686e-01]\n",
      " [-1.61446578e+00 -2.02348183e+00 -1.70824654e+00 -1.35486677e+00\n",
      "  -1.27542220e+00 -1.14665982e+00 -1.27459237e+00 -2.09252657e+00\n",
      "  -1.63383277e+00 -8.80883310e-01 -1.83748148e-01  1.68252876e-01\n",
      "   4.53276449e-01  5.53056466e-01  5.83438967e-01  5.95474357e-01\n",
      "   5.05094271e-01  3.82336485e-01  1.62580725e-01 -1.10174120e-01\n",
      "  -5.49867828e-01 -1.14694043e+00 -1.87056758e+00 -2.25876082e+00\n",
      "  -2.01861965e+00 -1.35074943e+00 -6.40518170e-01 -3.71006197e-02\n",
      "   4.04060831e-01  6.76578116e-01  8.56972103e-01  9.80866913e-01]\n",
      " [-1.20726726e-01 -2.71302561e-01 -4.76580675e-01 -5.44272889e-01\n",
      "  -4.20499381e-01 -3.35262709e-01 -1.83559497e-01  1.10914438e-01\n",
      "   2.70888558e-01  3.97656937e-01  3.96592935e-01  3.23513096e-01\n",
      "   3.68501505e-02 -3.66887294e-01 -1.03672968e+00 -3.87233306e+00\n",
      "  -1.67379621e+00 -9.17959307e-01 -5.97758024e-01 -5.33888060e-01\n",
      "  -5.36028222e-01 -7.56656633e-01 -9.43873691e-01 -9.94790938e-01\n",
      "  -7.97527031e-01 -5.39522393e-01 -2.09107069e-01  1.00126927e-01\n",
      "   2.98753868e-01  4.68084649e-01  5.30980103e-01  3.97891986e-01]\n",
      " [-1.86135616e-01 -4.50691884e-01 -7.57594175e-01 -1.10514101e+00\n",
      "  -9.26344526e-01 -5.43356966e-01 -1.05083337e-01  2.41876163e-01\n",
      "   4.62649909e-01  5.80492235e-01  6.21708801e-01  5.54732106e-01\n",
      "   4.99107180e-01  3.72508966e-01  2.82804101e-01  1.66910421e-01\n",
      "   8.56500225e-02 -4.77536626e-02 -1.96661938e-01 -4.30235148e-01\n",
      "  -8.48007859e-01 -1.69096365e+00 -2.01714646e+00 -1.12515539e+00\n",
      "  -6.75819291e-01 -5.03206513e-01 -6.31274886e-01 -1.22492425e+00\n",
      "  -2.22277839e+00 -1.12624001e+00 -4.35996907e-01  1.61719801e-01]\n",
      " [-1.23231413e+00 -3.54130676e+00 -1.99768211e+00 -9.06781499e-01\n",
      "  -5.52004608e-01 -2.65758484e-01 -3.53244279e-02  8.09585398e-02\n",
      "   2.74079785e-01  3.71316673e-01  3.91533901e-01  3.56815469e-01\n",
      "   1.27255210e-01 -3.59340674e-01 -1.62621586e+00 -1.62687215e+00\n",
      "  -4.18274112e-01  1.97927737e-01  5.01894219e-01  6.73635013e-01\n",
      "   7.60891812e-01  8.24649638e-01  8.21433650e-01  7.97804862e-01\n",
      "   7.82613157e-01  7.23150014e-01  6.64939272e-01  6.19424504e-01\n",
      "   6.21773813e-01  5.60775097e-01  5.77509449e-01  5.07540454e-01]\n",
      " [-8.23636264e-02 -3.33453766e-01 -4.88626731e-01 -6.28513080e-01\n",
      "  -6.28425855e-01 -8.16422343e-01 -1.23116704e+00 -1.78238051e+00\n",
      "  -9.82149506e-01 -2.01041399e-01  2.77480348e-01  6.07810587e-01\n",
      "   8.26497441e-01  9.62667676e-01  1.05410429e+00  1.08986636e+00\n",
      "   1.10452969e+00  1.07351809e+00  1.01142697e+00  8.81687516e-01\n",
      "   6.86796912e-01  3.88239896e-01  1.80036214e-01  2.05989716e-01\n",
      "   4.09103118e-01  6.60670734e-01  8.26943287e-01  8.90076279e-01\n",
      "   8.06597929e-01  6.77138016e-01  2.56743050e-01 -2.00170939e-01]\n",
      " [ 1.74947083e-01 -6.76004283e-02 -2.62127730e-01 -2.91478909e-01\n",
      "   6.01501596e-03  2.66621214e-01  5.40173649e-01  7.48781684e-01\n",
      "   8.78338597e-01  1.01643497e+00  1.11454922e+00  1.13507674e+00\n",
      "   1.11045752e+00  1.03944992e+00  8.79499543e-01  6.35220213e-01\n",
      "   3.36984159e-01  1.56324836e-01  2.01326683e-01  3.95494706e-01\n",
      "   5.16320878e-01  5.91169796e-01  6.25328448e-01  7.24971543e-01\n",
      "   7.98378095e-01  9.41056231e-01  9.81348209e-01  9.51136484e-01\n",
      "   8.62956924e-01  5.80332723e-01  3.06271029e-01 -1.04427203e-01]\n",
      " [ 4.12182498e-01  4.71597275e-01  4.59825668e-01  4.58666459e-01\n",
      "   3.88559453e-01  4.41172110e-01  4.84794146e-01  6.01826986e-01\n",
      "   7.29660307e-01  7.51863014e-01  7.04020622e-01  5.86420811e-01\n",
      "   3.28363295e-01 -2.29215778e-02 -6.63600544e-01 -8.54912566e-01\n",
      "  -8.10867760e-01 -5.44407408e-01 -1.69410171e-01  2.96966402e-01\n",
      "   7.32222244e-01  1.08508755e+00  1.38601430e+00  1.53443507e+00\n",
      "   1.62577479e+00  1.57496179e+00  1.45406834e+00  1.22590512e+00\n",
      "   8.72622961e-01  3.87642788e-01 -5.12669124e-02 -7.56145465e-01]\n",
      " [-3.14065648e-01 -9.45940735e-01 -1.78988854e+00 -2.44011682e+00\n",
      "  -2.28940977e+00 -2.81631550e+00 -2.89630621e+00 -1.61110592e+00\n",
      "  -8.51423427e-01 -3.86850397e-01 -1.05368268e-01  3.17709282e-02\n",
      "   1.40009205e-01  6.99113842e-02  8.46882508e-02  1.03712363e-01\n",
      "   1.35950145e-01  3.89265580e-01  6.89680797e-01  9.28525721e-01\n",
      "   1.15186390e+00  1.34364244e+00  1.45531947e+00  1.56870107e+00\n",
      "   1.58380020e+00  1.58666717e+00  1.51552383e+00  1.39077522e+00\n",
      "   1.18057363e+00  9.69633445e-01  6.47963529e-01  2.70668346e-01]\n",
      " [ 7.92632760e-01  6.20193413e-01  4.17542318e-01  3.08281919e-01\n",
      "   2.45203014e-01  2.30871771e-01  2.58823990e-01  2.00153737e-01\n",
      "   1.19082192e-02 -3.79580146e-01 -8.60943650e-01 -1.17836708e+00\n",
      "  -4.98577682e-01  1.74542638e-01  5.48976964e-01  7.94799940e-01\n",
      "   8.69387754e-01  6.76864226e-01  1.80552303e-01 -8.77962223e-01\n",
      "  -1.74716129e+00  2.90683257e-02  6.67427733e-01  9.40388019e-01\n",
      "   1.06044042e+00  9.57765903e-01  6.42837525e-01  3.37480231e-03\n",
      "  -9.86841155e-01 -8.95813791e-01  1.45951059e-01  6.62377692e-01]\n",
      " [ 1.80683674e+00  1.70925854e+00  1.49340127e+00  1.07984386e+00\n",
      "   4.46554766e-01 -6.11212804e-01 -1.05617012e+00  1.43714572e-01\n",
      "   7.78456405e-01  1.17393654e+00  1.42386282e+00  1.60205099e+00\n",
      "   1.70840035e+00  1.77633198e+00  1.79436703e+00  1.74364066e+00\n",
      "   1.64087638e+00  1.52820568e+00  1.35733319e+00  1.18111823e+00\n",
      "   1.01337826e+00  8.13843983e-01  7.06594463e-01  6.63556759e-01\n",
      "   6.30627517e-01  6.68878216e-01  7.58122542e-01  8.54426153e-01\n",
      "   9.68122506e-01  1.04501749e+00  1.08214993e+00  1.13105646e+00]\n",
      " [ 1.97167165e+00  2.01218218e+00  2.02345574e+00  2.02420009e+00\n",
      "   1.99627337e+00  1.96640118e+00  1.94626460e+00  1.94038749e+00\n",
      "   1.94467529e+00  1.93977314e+00  1.91055605e+00  1.85514297e+00\n",
      "   1.79357759e+00  1.70295325e+00  1.57855117e+00  1.42465524e+00\n",
      "   1.23594377e+00  9.71908896e-01  7.24816957e-01  3.69858663e-01\n",
      "  -8.99460657e-02 -6.86193095e-01 -1.65552566e+00 -1.64232592e+00\n",
      "  -9.51969070e-01 -5.16500528e-01 -3.84245398e-01 -5.38880985e-01\n",
      "  -7.04768410e-01 -1.31063748e-01  5.60812034e-01  1.02455714e+00]\n",
      " [ 1.13468542e-01  4.35288586e-01  8.19460157e-01  1.08290915e+00\n",
      "   1.24639467e+00  1.28546492e+00  1.21476302e+00  1.07143953e+00\n",
      "   9.17455002e-01  8.11968420e-01  7.04141819e-01  5.24534895e-01\n",
      "   7.89731970e-02 -9.31498796e-01 -3.22897105e+00 -7.48913211e-01\n",
      "   2.30782880e-02  3.14078270e-01  2.41421206e-01 -5.56023788e-02\n",
      "  -6.32947163e-01 -6.49136567e-01 -2.30126968e-02  4.35092686e-01\n",
      "   6.80136526e-01  7.85676077e-01  8.07763739e-01  8.44869972e-01\n",
      "   9.48874419e-01  1.11596808e+00  1.33864845e+00  1.55351627e+00]\n",
      " [-1.57379811e-01  5.20544419e-02  1.61629618e-01  2.69117525e-01\n",
      "   3.24775355e-01  3.21031206e-01  2.33243420e-01  1.06643852e-01\n",
      "  -3.12811187e-02 -5.30019364e-02  1.25312892e-01  4.54225871e-01\n",
      "   7.78228737e-01  1.02456051e+00  1.18711402e+00  1.31906408e+00\n",
      "   1.41160650e+00  1.48979643e+00  1.59994457e+00  1.67064155e+00\n",
      "   1.74833681e+00  1.80554560e+00  1.83709334e+00  1.83088210e+00\n",
      "   1.79037211e+00  1.68796421e+00  1.50306682e+00  1.18639628e+00\n",
      "   6.61646735e-01 -1.69812824e-01 -4.20008538e-01  4.81977984e-01]\n",
      " [ 2.07179367e-01 -3.34993592e-02 -4.15953747e-01 -1.34583648e+00\n",
      "  -4.28707757e+00 -1.31896653e+00 -3.21504467e-01  2.98534628e-01\n",
      "   6.71448048e-01  9.11307665e-01  1.05895961e+00  1.12748920e+00\n",
      "   1.12305160e+00  1.04994435e+00  9.23747520e-01  7.63716046e-01\n",
      "   7.26555996e-01  9.00492555e-01  1.11826237e+00  1.36327709e+00\n",
      "   1.48836794e+00  1.52108414e+00  1.47172124e+00  1.38626633e+00\n",
      "   1.30414428e+00  1.27603715e+00  1.30683970e+00  1.35406894e+00\n",
      "   1.39601009e+00  1.43651954e+00  1.44190293e+00  1.41417058e+00]\n",
      " [ 7.46894887e-02  2.52332001e-01  3.21374511e-01  3.63377971e-01\n",
      "   2.51495612e-01  8.01418930e-02 -8.13573034e-02 -2.87872543e-01\n",
      "  -1.56568295e-01  1.68853450e-01  4.83099996e-01  6.35471099e-01\n",
      "   6.32361038e-01  5.23042941e-01  3.42181495e-01  1.15155528e-01\n",
      "  -2.93069163e-02  2.64080970e-02  1.44191888e-01  2.48330271e-01\n",
      "   4.04709543e-01  5.24172881e-01  5.51826029e-01  4.28359556e-01\n",
      "   1.68683276e-01  1.55770420e-01  5.50939027e-01  9.96785156e-01\n",
      "   1.35092858e+00  1.57015568e+00  1.69128231e+00  1.71333312e+00]\n",
      " [ 5.76765263e-01  6.81951132e-01  7.25537118e-01  6.37008835e-01\n",
      "   5.39723270e-01  3.69381641e-01  2.10407480e-01  1.69474236e-01\n",
      "   2.55189793e-01  4.84171046e-01  7.20229044e-01  9.21407613e-01\n",
      "   1.07224094e+00  1.08683326e+00  9.68363700e-01  7.58439306e-01\n",
      "   3.45652329e-01 -1.81610322e-01 -4.90989445e-01 -2.48003908e-01\n",
      "   1.74868225e-01  4.37867367e-01  5.19743667e-01  6.12285331e-01\n",
      "   7.39944914e-01  8.34035796e-01  9.60635338e-01  1.10830042e+00\n",
      "   1.22336296e+00  1.28818545e+00  1.25878114e+00  1.15202077e+00]\n",
      " [ 7.98253450e-01  7.72989282e-01  6.56502603e-01  4.63466252e-01\n",
      "   7.92843613e-02 -5.29340738e-01 -2.31318608e+00 -1.85026341e+00\n",
      "  -3.11203668e-01  4.30059256e-01  8.45464074e-01  1.12900687e+00\n",
      "   1.28558510e+00  1.40954753e+00  1.48637973e+00  1.45640951e+00\n",
      "   1.40160600e+00  1.27440226e+00  1.09564281e+00  8.72894734e-01\n",
      "   4.75007874e-01 -2.91902240e-02 -6.85197082e-01 -1.76491993e+00\n",
      "  -2.39161334e+00 -1.69090743e+00 -9.33753155e-01 -3.83702418e-01\n",
      "  -1.09110729e-01  2.18546887e-02  1.54892891e-01  2.13492983e-01]\n",
      " [-9.89249158e-01 -3.39948466e-01  1.02721077e-01  3.30525809e-01\n",
      "   4.25728063e-01  3.63040017e-01  2.11914203e-01 -7.96681637e-03\n",
      "  -2.14533271e-01 -3.32939915e-01 -6.94278560e-02  2.68600418e-01\n",
      "   6.08335787e-01  8.24721217e-01  8.89547292e-01  9.65610891e-01\n",
      "   9.21576838e-01  8.23631810e-01  6.86724007e-01  5.19607599e-01\n",
      "   3.70147797e-01 -3.25304544e-02 -4.40195946e-01 -1.24173779e+00\n",
      "  -2.29934422e+00 -2.47309099e+00 -1.21262822e+00 -9.73620698e-01\n",
      "  -1.02542568e+00 -1.05823793e+00 -1.52031263e+00 -1.98164483e+00]\n",
      " [ 5.96040152e-01  5.45660289e-01  4.73077057e-01  4.00054468e-01\n",
      "   2.42487603e-01  1.11176198e-01 -2.01654367e-03 -2.22101701e-01\n",
      "  -2.46364479e-01 -2.18743440e-01 -1.28301825e-01 -4.89595397e-03\n",
      "   7.71145709e-02 -3.54454214e-02 -1.19099780e-01 -6.63377143e-01\n",
      "  -1.32658675e+00 -2.34980661e+00 -2.26645014e+00 -1.35494365e+00\n",
      "  -1.13575298e+00 -5.65889490e-01 -3.97063753e-01 -2.34750908e-01\n",
      "  -2.42967294e-01 -8.24674908e-02 -1.44411234e-01 -1.93729785e-01\n",
      "  -2.02917044e-01 -3.54964124e-01 -2.34367210e-01 -3.37256902e-01]\n",
      " [-3.50629199e-01 -4.59805963e-01 -2.22341087e-01 -6.56390568e-02\n",
      "  -9.23114126e-02 -3.69733556e-01 -9.77477951e-01 -1.71932276e+00\n",
      "  -8.32703020e-01 -2.43775451e-01  1.93709256e-01  4.32014663e-01\n",
      "   4.69032092e-01  4.13798672e-01  2.15315855e-01 -6.06063999e-03\n",
      "  -3.96288112e-01 -7.77871702e-01 -1.58565965e+00 -2.14648799e+00\n",
      "  -3.52631863e+00 -1.59824314e+00 -1.09261479e+00 -7.82183732e-01\n",
      "  -3.86906757e-01 -3.40528351e-01 -2.31513045e-01 -3.09884366e-01\n",
      "  -5.60417742e-01 -7.75813109e-01 -1.15883247e+00 -8.17787804e-01]\n",
      " [ 1.24379925e-01 -1.19653733e-01 -2.44172383e-01 -1.91236743e-01\n",
      "  -1.60698954e-01  5.09714709e-03  1.93836527e-01  3.89151624e-01\n",
      "   5.18205378e-01  7.22249905e-01  8.76991869e-01  9.35542433e-01\n",
      "   9.73588774e-01  9.50746497e-01  8.31729928e-01  6.66813264e-01\n",
      "   3.46059057e-01 -9.69266239e-02 -7.68228761e-01 -1.61309965e+00\n",
      "  -2.76855376e+00 -1.09957335e+00 -6.08291644e-01 -3.46861607e-01\n",
      "  -2.36144524e-01 -1.46252380e-01 -2.96200573e-01 -4.07578058e-01\n",
      "  -6.11191030e-01 -5.95620817e-01 -8.13814386e-01 -5.70237514e-01]\n",
      " [-7.37109360e-01 -1.09366827e+00 -1.49248099e+00 -1.92500292e+00\n",
      "  -2.61617268e+00 -2.59401301e+00 -2.05131827e+00 -1.22401080e+00\n",
      "  -6.12539908e-01 -1.22289847e-01  1.54611597e-01  4.51969009e-01\n",
      "   6.31721820e-01  7.25987682e-01  7.74978156e-01  7.07987783e-01\n",
      "   6.80487388e-01  5.81291690e-01  5.45794832e-01  4.50334623e-01\n",
      "   5.84701044e-01  5.13613972e-01  5.67860360e-01  6.15626204e-01\n",
      "   5.81712479e-01  3.66940064e-01  1.96238683e-01 -3.22926893e-01\n",
      "  -9.14487844e-01 -9.83569387e-01 -6.15632543e-01 -1.79534521e-01]]\n"
     ]
    },
    {
     "data": {
      "text/plain": [
       "Text(0,0.5,'frequency')"
      ]
     },
     "execution_count": 11,
     "metadata": {},
     "output_type": "execute_result"
    },
    {
     "data": {
      "image/png": "[encoded data removed]",
      "text/plain": [
       "<Figure size 1440x504 with 1 Axes>"
      ]
     },
     "metadata": {
      "needs_background": "light"
     },
     "output_type": "display_data"
    }
   ],
   "source": [
    "fig = plt.figure(figsize=(20,7))\n",
    "plt.imshow(n1[0],aspect='auto')\n",
    "plt.gca().invert_yaxis()\n",
    "fig.axes[0].set_xlabel('windows')\n",
    "fig.axes[0].set_ylabel('frequency')"
   ]
  },
  {
   "cell_type": "code",
   "execution_count": null,
   "metadata": {},
   "outputs": [],
   "source": []
  },
  {
   "cell_type": "markdown",
   "metadata": {},
   "source": [
    "# DNN SPINE paper"
   ]
  },
  {
   "cell_type": "code",
   "execution_count": null,
   "metadata": {},
   "outputs": [],
   "source": [
    "todo"
   ]
  },
  {
   "cell_type": "code",
   "execution_count": null,
   "metadata": {},
   "outputs": [],
   "source": []
  }
 ],
 "metadata": {
  "kernelspec": {
   "display_name": "Python 3",
   "language": "python",
   "name": "python3"
  },
  "language_info": {
   "codemirror_mode": {
    "name": "ipython",
    "version": 3
   },
   "file_extension": ".py",
   "mimetype": "text/x-python",
   "name": "python",
   "nbconvert_exporter": "python",
   "pygments_lexer": "ipython3",
   "version": "3.7.5"
  }
 },
 "nbformat": 4,
 "nbformat_minor": 2
}
