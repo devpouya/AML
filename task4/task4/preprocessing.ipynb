{
 "cells": [
  {
   "cell_type": "code",
   "execution_count": 1,
   "metadata": {},
   "outputs": [],
   "source": [
    "import pandas as pd\n",
    "import numpy as np"
   ]
  },
  {
   "cell_type": "code",
   "execution_count": 42,
   "metadata": {},
   "outputs": [],
   "source": [
    "# load training set\n",
    "train_eeg1 = pd.read_csv(\"train_eeg1.csv\"   , delimiter = \",\")\n",
    "train_eeg2 = pd.read_csv(\"train_eeg2.csv\"   , delimiter = \",\")\n",
    "train_emg  = pd.read_csv(\"train_emg.csv\"    , delimiter = \",\")\n",
    "train_labels= pd.read_csv(\"train_labels.csv\", delimiter = \",\")\n",
    "\n",
    "train_eeg1 = train_eeg1.values[:,1:]\n",
    "train_eeg2 = train_eeg2.values[:,1:]\n",
    "train_emg  = train_emg.values[:,1:]\n",
    "train_labels = train_labels.values[:,1:]"
   ]
  },
  {
   "cell_type": "code",
   "execution_count": 44,
   "metadata": {},
   "outputs": [],
   "source": [
    "# load test set\n",
    "test_eeg1 = pd.read_csv(\"test_eeg1.csv\" , delimiter = \",\")\n",
    "test_eeg2 = pd.read_csv(\"test_eeg2.csv\" , delimiter = \",\")\n",
    "test_emg  = pd.read_csv(\"test_emg.csv\"  , delimiter = \",\")\n",
    "\n",
    "test_eeg1 = test_eeg1.values[:,1:]\n",
    "test_eeg2 = test_eeg2.values[:,1:]\n",
    "test_emg  = test_emg.values[:,1:]"
   ]
  },
  {
   "cell_type": "code",
   "execution_count": 45,
   "metadata": {},
   "outputs": [
    {
     "name": "stdout",
     "output_type": "stream",
     "text": [
      "(64800, 512)\n",
      "(64800, 512)\n",
      "(64800, 512)\n",
      "(64800, 1)\n"
     ]
    }
   ],
   "source": [
    "# check shape\n",
    "print(train_eeg1.shape)\n",
    "print(train_eeg2.shape)\n",
    "print(train_emg.shape)\n",
    "print(train_labels.shape)"
   ]
  },
  {
   "cell_type": "code",
   "execution_count": 47,
   "metadata": {},
   "outputs": [
    {
     "data": {
      "text/plain": [
       "{1: 34114, 2: 27133, 3: 3553}"
      ]
     },
     "execution_count": 47,
     "metadata": {},
     "output_type": "execute_result"
    }
   ],
   "source": [
    "def count_instances(labels):\n",
    "    unique, counts = np.unique(labels,return_counts=True)\n",
    "    return dict(zip(unique,counts))\n",
    "\n",
    "# check label distribution\n",
    "count_instances(train_labels)"
   ]
  },
  {
   "cell_type": "code",
   "execution_count": 48,
   "metadata": {},
   "outputs": [],
   "source": [
    "# we want to divided the training set into 3 folds, corresponding to 3 individual subjects.\n",
    "# the cross-validation will be conducted in a fashion that we train on 2 folds and validate on 1 fold.\n",
    "# as suggested by the TA.\n",
    "\n",
    "def divide_folds(data, num_folds):\n",
    "    assert data.shape[0] % num_folds == 0\n",
    "    subjects = [] #placeholder for folds (subjects)\n",
    "    \n",
    "    card_per_fold = data.shape[0]/num_folds\n",
    "    for i in range(num_folds):\n",
    "        subjects.append(data[int(i*card_per_fold):int((i+1)*card_per_fold)])\n",
    "    \n",
    "    return subjects"
   ]
  },
  {
   "cell_type": "code",
   "execution_count": 54,
   "metadata": {
    "scrolled": true
   },
   "outputs": [],
   "source": [
    "# divide the training signals into 3 subjects\n",
    "subjects_train_eeg1 = divide_folds(train_eeg1, 3)\n",
    "subjects_train_eeg2 = divide_folds(train_eeg2, 3)\n",
    "subjects_train_emg  = divide_folds(train_emg,  3)"
   ]
  },
  {
   "cell_type": "code",
   "execution_count": 55,
   "metadata": {},
   "outputs": [],
   "source": [
    "# divide the test signals into 3 subjects\n",
    "subjects_test_eeg1 = divide_folds(test_eeg1, 3)\n",
    "subjects_test_eeg2 = divide_folds(test_eeg2, 3)\n",
    "subjects_test_emg  = divide_folds(test_emg,  3)"
   ]
  },
  {
   "cell_type": "code",
   "execution_count": null,
   "metadata": {},
   "outputs": [],
   "source": []
  }
 ],
 "metadata": {
  "kernelspec": {
   "display_name": "Python 3",
   "language": "python",
   "name": "python3"
  },
  "language_info": {
   "codemirror_mode": {
    "name": "ipython",
    "version": 3
   },
   "file_extension": ".py",
   "mimetype": "text/x-python",
   "name": "python",
   "nbconvert_exporter": "python",
   "pygments_lexer": "ipython3",
   "version": "3.6.8"
  }
 },
 "nbformat": 4,
 "nbformat_minor": 2
}
